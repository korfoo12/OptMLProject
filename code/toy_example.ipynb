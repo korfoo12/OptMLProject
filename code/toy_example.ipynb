{
 "cells": [
  {
   "cell_type": "code",
   "execution_count": 1,
   "id": "55dad5e5",
   "metadata": {},
   "outputs": [],
   "source": [
    "import torch\n",
    "import torch.nn as nn\n",
    "import torch.optim as optim\n",
    "from torch.utils.data import random_split, DataLoader, IterableDataset\n",
    "\n",
    "from torchvision.datasets import MNIST,CIFAR10\n",
    "import torchvision.transforms as transforms\n",
    "\n",
    "import numpy as np\n",
    "import matplotlib.pyplot as plt\n",
    "\n",
    "from lib.server import Server\n",
    "from lib.client import Client\n",
    "from lib.data_helper import *\n",
    "from lib.train_helper import *\n",
    "from lib.plots import plot_loss_epoch"
   ]
  },
  {
   "cell_type": "markdown",
   "id": "94e80e9e",
   "metadata": {},
   "source": [
    "## Data"
   ]
  },
  {
   "cell_type": "code",
   "execution_count": 2,
   "id": "51468a3c",
   "metadata": {},
   "outputs": [
    {
     "data": {
      "text/plain": [
       "'cuda'"
      ]
     },
     "execution_count": 2,
     "metadata": {},
     "output_type": "execute_result"
    }
   ],
   "source": [
    "device = 'cuda' if torch.cuda.is_available() else 'cpu'\n",
    "device"
   ]
  },
  {
   "cell_type": "code",
   "execution_count": 3,
   "id": "4585ae45",
   "metadata": {},
   "outputs": [
    {
     "data": {
      "text/plain": [
       "Dataset MNIST\n",
       "    Number of datapoints: 60000\n",
       "    Root location: data\n",
       "    Split: Train\n",
       "    StandardTransform\n",
       "Transform: ToTensor()"
      ]
     },
     "execution_count": 3,
     "metadata": {},
     "output_type": "execute_result"
    }
   ],
   "source": [
    "dataset = MNIST('data', train=True, download=True, transform=transforms.ToTensor())\n",
    "dataset"
   ]
  },
  {
   "cell_type": "code",
   "execution_count": 4,
   "id": "d56dda48",
   "metadata": {},
   "outputs": [],
   "source": [
    "train_dataset, valid_dataset = random_split(dataset, [int(len(dataset) * 0.83), int(len(dataset) * 0.17)])"
   ]
  },
  {
   "cell_type": "markdown",
   "id": "f3074386",
   "metadata": {},
   "source": [
    "## Network"
   ]
  },
  {
   "cell_type": "code",
   "execution_count": 5,
   "id": "629f7937",
   "metadata": {},
   "outputs": [
    {
     "data": {
      "text/plain": [
       "Sequential(\n",
       "  (0): Conv2d(1, 20, kernel_size=(7, 7), stride=(1, 1))\n",
       "  (1): ReLU()\n",
       "  (2): Conv2d(20, 40, kernel_size=(7, 7), stride=(1, 1))\n",
       "  (3): ReLU()\n",
       "  (4): MaxPool2d(kernel_size=2, stride=2, padding=0, dilation=1, ceil_mode=False)\n",
       "  (5): Flatten(start_dim=1, end_dim=-1)\n",
       "  (6): Linear(in_features=2560, out_features=10, bias=True)\n",
       ")"
      ]
     },
     "execution_count": 5,
     "metadata": {},
     "output_type": "execute_result"
    }
   ],
   "source": [
    "def toy_net():\n",
    "    return nn.Sequential(\n",
    "        nn.Conv2d(1, 20, 7),\n",
    "        nn.ReLU(),\n",
    "        nn.Conv2d(20, 40, 7),\n",
    "        nn.ReLU(),\n",
    "        nn.MaxPool2d(2, 2),\n",
    "        nn.Flatten(),\n",
    "        nn.Linear(2560, 10)\n",
    "    )\n",
    "toy_net()"
   ]
  },
  {
   "cell_type": "markdown",
   "id": "3b069ab6",
   "metadata": {},
   "source": [
    "## Server-Clients configuration"
   ]
  },
  {
   "cell_type": "code",
   "execution_count": 6,
   "id": "964d4f8b",
   "metadata": {},
   "outputs": [],
   "source": [
    "# underlying module must be of the same class in server & clients\n",
    "server = Server(toy_net().to(device))\n",
    "N = 8 # number of clients\n",
    "partition = partition_by_class(train_dataset)\n",
    "\n",
    "# for even (iid) split -> set alpha to very big value like 10e8 or very small like 10e-8\n",
    "# here alpha=0.1 creates very uneven (non-iid) splits\n",
    "clients = [Client(i,d,toy_net().to(device)) for i,d in enumerate(split(partition,N,alpha=0.1),start=1)]"
   ]
  },
  {
   "cell_type": "code",
   "execution_count": 7,
   "id": "e59b7239",
   "metadata": {},
   "outputs": [],
   "source": [
    "def run(server,clients,device,train_dataset,valid_dataset,rounds,epochs,batch_size,optimizer,lr,**kwargs):\n",
    "    train_loader = DeviceDataLoader(DataLoader(train_dataset, batch_size, shuffle=True), device)\n",
    "    valid_loader = DeviceDataLoader(DataLoader(valid_dataset, batch_size, shuffle=True), device)\n",
    "    history = []\n",
    "    for i in range(rounds):\n",
    "        print(f'Start Round {i+1} ...')\n",
    "        server_params = server.net.state_dict()\n",
    "        clients_params = []\n",
    "        for client in clients:\n",
    "                    #train(device, state_dict, epochs, batch_size, opt, lr, **kwargs)\n",
    "            client.train(device,server_params,epochs,batch_size, optimizer,lr,**kwargs)\n",
    "        server.merge(clients)\n",
    "        \n",
    "        train_loss, train_acc = evaluate(server.net,train_loader)\n",
    "        dev_loss, dev_acc = evaluate(server.net,valid_loader)\n",
    "        \n",
    "        print(f'''After round {i+1} :\n",
    "        - training loss = {train_loss:.4f}\n",
    "        - training accuracy = {train_acc:.4f}\n",
    "        - validation loss = {dev_loss:.4f}\n",
    "        - validation accuracy = {dev_acc:.4f}\n",
    "        ''')\n",
    "        \n",
    "        history.append((train_loss, dev_loss))\n",
    "    return history"
   ]
  },
  {
   "cell_type": "markdown",
   "id": "0e0715e6",
   "metadata": {},
   "source": [
    "## SGD"
   ]
  },
  {
   "cell_type": "code",
   "execution_count": 8,
   "id": "29dcc845",
   "metadata": {},
   "outputs": [],
   "source": [
    "rounds = 10\n",
    "batch_size = 128\n",
    "epochs = 3\n",
    "lr = 1e-3"
   ]
  },
  {
   "cell_type": "code",
   "execution_count": 9,
   "id": "603f3503",
   "metadata": {
    "scrolled": false
   },
   "outputs": [
    {
     "name": "stdout",
     "output_type": "stream",
     "text": [
      "Start Round 1 ...\n",
      "1: Loss = 0.6269, Accuracy = 0.8122\n",
      "2: Loss = 0.8862, Accuracy = 0.7017\n",
      "3: Loss = 1.2431, Accuracy = 0.6113\n",
      "4: Loss = 1.4545, Accuracy = 0.6280\n",
      "5: Loss = 0.8172, Accuracy = 0.7263\n",
      "6: Loss = 0.2466, Accuracy = 0.9792\n",
      "7: Loss = 1.5532, Accuracy = 0.5564\n",
      "8: Loss = 2.0122, Accuracy = 0.5508\n",
      "After round 1 :\n",
      "        - training loss = 2.2161\n",
      "        - training accuracy = 0.2094\n",
      "        - validation loss = 2.2141\n",
      "        - validation accuracy = 0.2133\n",
      "        \n",
      "Start Round 2 ...\n",
      "1: Loss = 0.4050, Accuracy = 0.9358\n",
      "2: Loss = 0.6097, Accuracy = 0.8101\n",
      "3: Loss = 0.9265, Accuracy = 0.6989\n",
      "4: Loss = 0.9049, Accuracy = 0.7616\n",
      "5: Loss = 0.5613, Accuracy = 0.8914\n",
      "6: Loss = 0.1634, Accuracy = 0.9792\n",
      "7: Loss = 0.9650, Accuracy = 0.7462\n",
      "8: Loss = 1.3009, Accuracy = 0.8187\n",
      "After round 2 :\n",
      "        - training loss = 1.9832\n",
      "        - training accuracy = 0.3215\n",
      "        - validation loss = 1.9813\n",
      "        - validation accuracy = 0.3232\n",
      "        \n",
      "Start Round 3 ...\n",
      "1: Loss = 0.2547, Accuracy = 0.9432\n",
      "2: Loss = 0.4022, Accuracy = 0.8670\n",
      "3: Loss = 0.6071, Accuracy = 0.8338\n",
      "4: Loss = 0.6521, Accuracy = 0.8181\n",
      "5: Loss = 0.3703, Accuracy = 0.9026\n",
      "6: Loss = 0.1335, Accuracy = 0.9792\n",
      "7: Loss = 0.5906, Accuracy = 0.8320\n",
      "8: Loss = 0.7688, Accuracy = 0.8700\n",
      "After round 3 :\n",
      "        - training loss = 1.6423\n",
      "        - training accuracy = 0.4351\n",
      "        - validation loss = 1.6432\n",
      "        - validation accuracy = 0.4369\n",
      "        \n",
      "Start Round 4 ...\n",
      "1: Loss = 0.1764, Accuracy = 0.9575\n",
      "2: Loss = 0.2873, Accuracy = 0.9156\n",
      "3: Loss = 0.4343, Accuracy = 0.8807\n",
      "4: Loss = 0.5473, Accuracy = 0.8415\n",
      "5: Loss = 0.2632, Accuracy = 0.9206\n",
      "6: Loss = 0.1075, Accuracy = 0.9792\n",
      "7: Loss = 0.4077, Accuracy = 0.8822\n",
      "8: Loss = 0.5100, Accuracy = 0.8997\n",
      "After round 4 :\n",
      "        - training loss = 1.3400\n",
      "        - training accuracy = 0.5335\n",
      "        - validation loss = 1.3404\n",
      "        - validation accuracy = 0.5342\n",
      "        \n",
      "Start Round 5 ...\n",
      "1: Loss = 0.1340, Accuracy = 0.9656\n",
      "2: Loss = 0.2324, Accuracy = 0.9308\n",
      "3: Loss = 0.3503, Accuracy = 0.8990\n",
      "4: Loss = 0.4890, Accuracy = 0.8547\n",
      "5: Loss = 0.2070, Accuracy = 0.9387\n",
      "6: Loss = 0.0864, Accuracy = 0.9792\n",
      "7: Loss = 0.3254, Accuracy = 0.9052\n",
      "8: Loss = 0.3984, Accuracy = 0.9071\n",
      "After round 5 :\n",
      "        - training loss = 1.1346\n",
      "        - training accuracy = 0.6061\n",
      "        - validation loss = 1.1369\n",
      "        - validation accuracy = 0.6072\n",
      "        \n",
      "Start Round 6 ...\n",
      "1: Loss = 0.1103, Accuracy = 0.9694\n",
      "2: Loss = 0.2022, Accuracy = 0.9393\n",
      "3: Loss = 0.3044, Accuracy = 0.9088\n",
      "4: Loss = 0.4539, Accuracy = 0.8647\n",
      "5: Loss = 0.1757, Accuracy = 0.9488\n",
      "6: Loss = 0.0715, Accuracy = 0.9811\n",
      "7: Loss = 0.2739, Accuracy = 0.9201\n",
      "8: Loss = 0.3612, Accuracy = 0.9025\n",
      "After round 6 :\n",
      "        - training loss = 0.9989\n",
      "        - training accuracy = 0.6429\n",
      "        - validation loss = 0.9999\n",
      "        - validation accuracy = 0.6420\n",
      "        \n",
      "Start Round 7 ...\n",
      "1: Loss = 0.0965, Accuracy = 0.9731\n",
      "2: Loss = 0.1837, Accuracy = 0.9397\n",
      "3: Loss = 0.2760, Accuracy = 0.9153\n",
      "4: Loss = 0.4283, Accuracy = 0.8718\n",
      "5: Loss = 0.1541, Accuracy = 0.9554\n",
      "6: Loss = 0.0602, Accuracy = 0.9818\n",
      "7: Loss = 0.2542, Accuracy = 0.9237\n",
      "8: Loss = 0.3106, Accuracy = 0.9074\n",
      "After round 7 :\n",
      "        - training loss = 0.8857\n",
      "        - training accuracy = 0.6883\n",
      "        - validation loss = 0.8892\n",
      "        - validation accuracy = 0.6873\n",
      "        \n",
      "Start Round 8 ...\n",
      "1: Loss = 0.0882, Accuracy = 0.9763\n",
      "2: Loss = 0.1741, Accuracy = 0.9441\n",
      "3: Loss = 0.2554, Accuracy = 0.9193\n",
      "4: Loss = 0.4100, Accuracy = 0.8768\n",
      "5: Loss = 0.1461, Accuracy = 0.9570\n",
      "6: Loss = 0.0538, Accuracy = 0.9847\n",
      "7: Loss = 0.2369, Accuracy = 0.9336\n",
      "8: Loss = 0.3156, Accuracy = 0.8946\n",
      "After round 8 :\n",
      "        - training loss = 0.8074\n",
      "        - training accuracy = 0.7164\n",
      "        - validation loss = 0.8101\n",
      "        - validation accuracy = 0.7139\n",
      "        \n",
      "Start Round 9 ...\n",
      "1: Loss = 0.0817, Accuracy = 0.9778\n",
      "2: Loss = 0.1667, Accuracy = 0.9435\n",
      "3: Loss = 0.2418, Accuracy = 0.9225\n",
      "4: Loss = 0.3952, Accuracy = 0.8803\n",
      "5: Loss = 0.1348, Accuracy = 0.9607\n",
      "6: Loss = 0.0491, Accuracy = 0.9860\n",
      "7: Loss = 0.2264, Accuracy = 0.9359\n",
      "8: Loss = 0.2742, Accuracy = 0.9152\n",
      "After round 9 :\n",
      "        - training loss = 0.7596\n",
      "        - training accuracy = 0.7364\n",
      "        - validation loss = 0.7620\n",
      "        - validation accuracy = 0.7336\n",
      "        \n",
      "Start Round 10 ...\n",
      "1: Loss = 0.0775, Accuracy = 0.9790\n",
      "2: Loss = 0.1595, Accuracy = 0.9462\n",
      "3: Loss = 0.2328, Accuracy = 0.9243\n",
      "4: Loss = 0.3842, Accuracy = 0.8855\n",
      "5: Loss = 0.1279, Accuracy = 0.9639\n",
      "6: Loss = 0.0462, Accuracy = 0.9870\n",
      "7: Loss = 0.2193, Accuracy = 0.9406\n",
      "8: Loss = 0.2507, Accuracy = 0.9165\n",
      "After round 10 :\n",
      "        - training loss = 0.7281\n",
      "        - training accuracy = 0.7459\n",
      "        - validation loss = 0.7308\n",
      "        - validation accuracy = 0.7470\n",
      "        \n"
     ]
    },
    {
     "data": {
      "image/png": "[encoded data removed]",
      "text/plain": [
       "<Figure size 640x480 with 1 Axes>"
      ]
     },
     "metadata": {},
     "output_type": "display_data"
    }
   ],
   "source": [
    "history = run(server,clients,device,train_dataset,valid_dataset,rounds,epochs,batch_size,optim.SGD,lr)\n",
    "plot_loss_epoch(history)"
   ]
  },
  {
   "cell_type": "markdown",
   "id": "ec5899fd",
   "metadata": {},
   "source": [
    "## Adagrad"
   ]
  },
  {
   "cell_type": "code",
   "execution_count": 10,
   "id": "890a7a9a",
   "metadata": {},
   "outputs": [],
   "source": [
    "rounds = 10\n",
    "batch_size = 128\n",
    "epochs = 3\n",
    "lr = 1e-3"
   ]
  },
  {
   "cell_type": "code",
   "execution_count": 11,
   "id": "85a365d3",
   "metadata": {
    "scrolled": false
   },
   "outputs": [
    {
     "name": "stdout",
     "output_type": "stream",
     "text": [
      "Start Round 1 ...\n",
      "1: Loss = 0.0592, Accuracy = 0.9829\n",
      "2: Loss = 0.1219, Accuracy = 0.9566\n",
      "3: Loss = 0.1600, Accuracy = 0.9472\n",
      "4: Loss = 0.2190, Accuracy = 0.9340\n",
      "5: Loss = 0.0812, Accuracy = 0.9766\n",
      "6: Loss = 0.0347, Accuracy = 0.9915\n",
      "7: Loss = 0.1693, Accuracy = 0.9529\n",
      "8: Loss = 0.2285, Accuracy = 0.9243\n",
      "After round 1 :\n",
      "        - training loss = 0.6506\n",
      "        - training accuracy = 0.7746\n",
      "        - validation loss = 0.6556\n",
      "        - validation accuracy = 0.7734\n",
      "        \n",
      "Start Round 2 ...\n",
      "1: Loss = 0.0450, Accuracy = 0.9875\n",
      "2: Loss = 0.0939, Accuracy = 0.9706\n",
      "3: Loss = 0.1282, Accuracy = 0.9608\n",
      "4: Loss = 0.1694, Accuracy = 0.9499\n",
      "5: Loss = 0.0612, Accuracy = 0.9828\n",
      "6: Loss = 0.0226, Accuracy = 0.9935\n",
      "7: Loss = 0.1270, Accuracy = 0.9624\n",
      "8: Loss = 0.1614, Accuracy = 0.9431\n",
      "After round 2 :\n",
      "        - training loss = 0.4729\n",
      "        - training accuracy = 0.8422\n",
      "        - validation loss = 0.4763\n",
      "        - validation accuracy = 0.8419\n",
      "        \n",
      "Start Round 3 ...\n",
      "1: Loss = 0.0342, Accuracy = 0.9913\n",
      "2: Loss = 0.0672, Accuracy = 0.9808\n",
      "3: Loss = 0.0909, Accuracy = 0.9748\n",
      "4: Loss = 0.1309, Accuracy = 0.9626\n",
      "5: Loss = 0.0422, Accuracy = 0.9878\n",
      "6: Loss = 0.0171, Accuracy = 0.9954\n",
      "7: Loss = 0.0933, Accuracy = 0.9718\n",
      "8: Loss = 0.1177, Accuracy = 0.9635\n",
      "After round 3 :\n",
      "        - training loss = 0.3920\n",
      "        - training accuracy = 0.8729\n",
      "        - validation loss = 0.3947\n",
      "        - validation accuracy = 0.8771\n",
      "        \n",
      "Start Round 4 ...\n",
      "1: Loss = 0.0269, Accuracy = 0.9920\n",
      "2: Loss = 0.0468, Accuracy = 0.9890\n",
      "3: Loss = 0.0701, Accuracy = 0.9795\n",
      "4: Loss = 0.1115, Accuracy = 0.9698\n",
      "5: Loss = 0.0314, Accuracy = 0.9917\n",
      "6: Loss = 0.0130, Accuracy = 0.9967\n",
      "7: Loss = 0.0715, Accuracy = 0.9782\n",
      "8: Loss = 0.0870, Accuracy = 0.9748\n",
      "After round 4 :\n",
      "        - training loss = 0.3643\n",
      "        - training accuracy = 0.8846\n",
      "        - validation loss = 0.3659\n",
      "        - validation accuracy = 0.8879\n",
      "        \n",
      "Start Round 5 ...\n",
      "1: Loss = 0.0225, Accuracy = 0.9944\n",
      "2: Loss = 0.0367, Accuracy = 0.9903\n",
      "3: Loss = 0.0569, Accuracy = 0.9842\n",
      "4: Loss = 0.0932, Accuracy = 0.9751\n",
      "5: Loss = 0.0250, Accuracy = 0.9955\n",
      "6: Loss = 0.0110, Accuracy = 0.9974\n",
      "7: Loss = 0.0599, Accuracy = 0.9813\n",
      "8: Loss = 0.0743, Accuracy = 0.9761\n",
      "After round 5 :\n",
      "        - training loss = 0.3453\n",
      "        - training accuracy = 0.8914\n",
      "        - validation loss = 0.3458\n",
      "        - validation accuracy = 0.8964\n",
      "        \n",
      "Start Round 6 ...\n",
      "1: Loss = 0.0186, Accuracy = 0.9950\n",
      "2: Loss = 0.0300, Accuracy = 0.9922\n",
      "3: Loss = 0.0478, Accuracy = 0.9860\n",
      "4: Loss = 0.0839, Accuracy = 0.9773\n",
      "5: Loss = 0.0217, Accuracy = 0.9952\n",
      "6: Loss = 0.0091, Accuracy = 0.9980\n",
      "7: Loss = 0.0500, Accuracy = 0.9853\n",
      "8: Loss = 0.0535, Accuracy = 0.9852\n",
      "After round 6 :\n",
      "        - training loss = 0.3410\n",
      "        - training accuracy = 0.8967\n",
      "        - validation loss = 0.3405\n",
      "        - validation accuracy = 0.8991\n",
      "        \n",
      "Start Round 7 ...\n",
      "1: Loss = 0.0173, Accuracy = 0.9956\n",
      "2: Loss = 0.0237, Accuracy = 0.9933\n",
      "3: Loss = 0.0434, Accuracy = 0.9875\n",
      "4: Loss = 0.0742, Accuracy = 0.9806\n",
      "5: Loss = 0.0183, Accuracy = 0.9957\n",
      "6: Loss = 0.0077, Accuracy = 0.9980\n",
      "7: Loss = 0.0447, Accuracy = 0.9860\n",
      "8: Loss = 0.0465, Accuracy = 0.9878\n",
      "After round 7 :\n",
      "        - training loss = 0.2982\n",
      "        - training accuracy = 0.9099\n",
      "        - validation loss = 0.2983\n",
      "        - validation accuracy = 0.9111\n",
      "        \n",
      "Start Round 8 ...\n",
      "1: Loss = 0.0146, Accuracy = 0.9965\n",
      "2: Loss = 0.0212, Accuracy = 0.9940\n",
      "3: Loss = 0.0391, Accuracy = 0.9897\n",
      "4: Loss = 0.0665, Accuracy = 0.9824\n",
      "5: Loss = 0.0165, Accuracy = 0.9965\n",
      "6: Loss = 0.0063, Accuracy = 0.9987\n",
      "7: Loss = 0.0421, Accuracy = 0.9863\n",
      "8: Loss = 0.0342, Accuracy = 0.9909\n",
      "After round 8 :\n",
      "        - training loss = 0.2226\n",
      "        - training accuracy = 0.9328\n",
      "        - validation loss = 0.2241\n",
      "        - validation accuracy = 0.9330\n",
      "        \n",
      "Start Round 9 ...\n",
      "1: Loss = 0.0137, Accuracy = 0.9966\n",
      "2: Loss = 0.0185, Accuracy = 0.9942\n",
      "3: Loss = 0.0341, Accuracy = 0.9908\n",
      "4: Loss = 0.0627, Accuracy = 0.9828\n",
      "5: Loss = 0.0152, Accuracy = 0.9965\n",
      "6: Loss = 0.0050, Accuracy = 0.9984\n",
      "7: Loss = 0.0380, Accuracy = 0.9872\n",
      "8: Loss = 0.0320, Accuracy = 0.9883\n",
      "After round 9 :\n",
      "        - training loss = 0.1926\n",
      "        - training accuracy = 0.9422\n",
      "        - validation loss = 0.1947\n",
      "        - validation accuracy = 0.9423\n",
      "        \n",
      "Start Round 10 ...\n",
      "1: Loss = 0.0112, Accuracy = 0.9971\n",
      "2: Loss = 0.0164, Accuracy = 0.9946\n",
      "3: Loss = 0.0321, Accuracy = 0.9916\n",
      "4: Loss = 0.0575, Accuracy = 0.9845\n",
      "5: Loss = 0.0136, Accuracy = 0.9976\n",
      "6: Loss = 0.0047, Accuracy = 0.9993\n",
      "7: Loss = 0.0347, Accuracy = 0.9891\n",
      "8: Loss = 0.0236, Accuracy = 0.9935\n",
      "After round 10 :\n",
      "        - training loss = 0.1897\n",
      "        - training accuracy = 0.9430\n",
      "        - validation loss = 0.1898\n",
      "        - validation accuracy = 0.9429\n",
      "        \n"
     ]
    },
    {
     "data": {
      "image/png": "[encoded data removed]",
      "text/plain": [
       "<Figure size 640x480 with 1 Axes>"
      ]
     },
     "metadata": {},
     "output_type": "display_data"
    }
   ],
   "source": [
    "history = run(server,clients,device,train_dataset,valid_dataset,rounds,epochs,batch_size,optim.Adagrad,lr)\n",
    "plot_loss_epoch(history)"
   ]
  },
  {
   "cell_type": "code",
   "execution_count": null,
   "id": "3dac96df",
   "metadata": {},
   "outputs": [],
   "source": []
  }
 ],
 "metadata": {
  "kernelspec": {
   "display_name": "Python 3",
   "language": "python",
   "name": "python3"
  },
  "language_info": {
   "codemirror_mode": {
    "name": "ipython",
    "version": 3
   },
   "file_extension": ".py",
   "mimetype": "text/x-python",
   "name": "python",
   "nbconvert_exporter": "python",
   "pygments_lexer": "ipython3",
   "version": "3.8.8"
  }
 },
 "nbformat": 4,
 "nbformat_minor": 5
}
