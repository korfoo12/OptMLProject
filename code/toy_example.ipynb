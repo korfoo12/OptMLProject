{
 "cells": [
  {
   "cell_type": "code",
   "execution_count": 1,
   "id": "55dad5e5",
   "metadata": {},
   "outputs": [],
   "source": [
    "import torch\n",
    "import torch.nn as nn\n",
    "import torch.optim as optim\n",
    "from torch.utils.data import random_split, DataLoader, IterableDataset\n",
    "\n",
    "from torchvision.datasets import MNIST,CIFAR10\n",
    "import torchvision.transforms as transforms\n",
    "from torchvision.models import vgg11\n",
    "\n",
    "import numpy as np\n",
    "import matplotlib.pyplot as plt\n",
    "\n",
    "from lib.server import Server\n",
    "from lib.client import Client\n",
    "from lib.data_helper import *\n",
    "from lib.train_helper import *\n",
    "from lib.plots import plot_loss_epoch"
   ]
  },
  {
   "cell_type": "markdown",
   "id": "94e80e9e",
   "metadata": {},
   "source": [
    "## Data"
   ]
  },
  {
   "cell_type": "code",
   "execution_count": 2,
   "id": "51468a3c",
   "metadata": {},
   "outputs": [
    {
     "data": {
      "text/plain": [
       "'cuda'"
      ]
     },
     "execution_count": 2,
     "metadata": {},
     "output_type": "execute_result"
    }
   ],
   "source": [
    "device = 'cuda' if torch.cuda.is_available() else 'cpu'\n",
    "device"
   ]
  },
  {
   "cell_type": "code",
   "execution_count": 3,
   "id": "4585ae45",
   "metadata": {},
   "outputs": [
    {
     "name": "stdout",
     "output_type": "stream",
     "text": [
      "Files already downloaded and verified\n"
     ]
    },
    {
     "data": {
      "text/plain": [
       "Dataset CIFAR10\n",
       "    Number of datapoints: 50000\n",
       "    Root location: data\n",
       "    Split: Train\n",
       "    StandardTransform\n",
       "Transform: ToTensor()"
      ]
     },
     "execution_count": 3,
     "metadata": {},
     "output_type": "execute_result"
    }
   ],
   "source": [
    "dataset = CIFAR10('data', train=True, download=True, transform=transforms.ToTensor())\n",
    "dataset"
   ]
  },
  {
   "cell_type": "code",
   "execution_count": 4,
   "id": "661a435e",
   "metadata": {},
   "outputs": [
    {
     "name": "stdout",
     "output_type": "stream",
     "text": [
      "Files already downloaded and verified\n"
     ]
    },
    {
     "data": {
      "text/plain": [
       "Dataset CIFAR10\n",
       "    Number of datapoints: 10000\n",
       "    Root location: data\n",
       "    Split: Test\n",
       "    StandardTransform\n",
       "Transform: ToTensor()"
      ]
     },
     "execution_count": 4,
     "metadata": {},
     "output_type": "execute_result"
    }
   ],
   "source": [
    "test_dataset = CIFAR10('data', train=False, download=True, transform=transforms.ToTensor())\n",
    "test_dataset"
   ]
  },
  {
   "cell_type": "code",
   "execution_count": 5,
   "id": "d56dda48",
   "metadata": {},
   "outputs": [],
   "source": [
    "train_dataset, valid_dataset = random_split(dataset, [int(len(dataset) * 0.83), int(len(dataset) * 0.17)])"
   ]
  },
  {
   "cell_type": "markdown",
   "id": "f3074386",
   "metadata": {},
   "source": [
    "## Network"
   ]
  },
  {
   "cell_type": "code",
   "execution_count": 6,
   "id": "629f7937",
   "metadata": {},
   "outputs": [
    {
     "data": {
      "text/plain": [
       "Sequential(\n",
       "  (0): Conv2d(3, 64, kernel_size=(3, 3), stride=(1, 1))\n",
       "  (1): BatchNorm2d(64, eps=1e-05, momentum=0.1, affine=True, track_running_stats=False)\n",
       "  (2): ReLU()\n",
       "  (3): Conv2d(64, 64, kernel_size=(3, 3), stride=(1, 1))\n",
       "  (4): BatchNorm2d(64, eps=1e-05, momentum=0.1, affine=True, track_running_stats=False)\n",
       "  (5): ReLU()\n",
       "  (6): Conv2d(64, 128, kernel_size=(3, 3), stride=(1, 1))\n",
       "  (7): BatchNorm2d(128, eps=1e-05, momentum=0.1, affine=True, track_running_stats=False)\n",
       "  (8): ReLU()\n",
       "  (9): MaxPool2d(kernel_size=2, stride=2, padding=0, dilation=1, ceil_mode=False)\n",
       "  (10): Conv2d(128, 128, kernel_size=(3, 3), stride=(1, 1))\n",
       "  (11): BatchNorm2d(128, eps=1e-05, momentum=0.1, affine=True, track_running_stats=False)\n",
       "  (12): ReLU()\n",
       "  (13): Conv2d(128, 256, kernel_size=(3, 3), stride=(1, 1))\n",
       "  (14): BatchNorm2d(256, eps=1e-05, momentum=0.1, affine=True, track_running_stats=False)\n",
       "  (15): ReLU()\n",
       "  (16): MaxPool2d(kernel_size=2, stride=2, padding=0, dilation=1, ceil_mode=False)\n",
       "  (17): Conv2d(256, 256, kernel_size=(3, 3), stride=(1, 1))\n",
       "  (18): BatchNorm2d(256, eps=1e-05, momentum=0.1, affine=True, track_running_stats=False)\n",
       "  (19): ReLU()\n",
       "  (20): Flatten(start_dim=1, end_dim=-1)\n",
       "  (21): Dropout(p=0.5, inplace=False)\n",
       "  (22): Linear(in_features=1024, out_features=10, bias=True)\n",
       ")"
      ]
     },
     "execution_count": 6,
     "metadata": {},
     "output_type": "execute_result"
    }
   ],
   "source": [
    "def toy_net():\n",
    "    return nn.Sequential(\n",
    "        nn.Conv2d(3, 64, 3),\n",
    "        nn.BatchNorm2d(64,track_running_stats=False),\n",
    "        nn.ReLU(),\n",
    "        \n",
    "        nn.Conv2d(64, 64, 3),\n",
    "        nn.BatchNorm2d(64,track_running_stats=False),\n",
    "        nn.ReLU(),\n",
    "        \n",
    "        nn.Conv2d(64, 128, 3),\n",
    "        nn.BatchNorm2d(128,track_running_stats=False),\n",
    "        nn.ReLU(),\n",
    "        \n",
    "        nn.MaxPool2d(2, 2),\n",
    "        \n",
    "        nn.Conv2d(128, 128, 3),\n",
    "        nn.BatchNorm2d(128,track_running_stats=False),\n",
    "        nn.ReLU(),\n",
    "        \n",
    "        nn.Conv2d(128, 256, 3),\n",
    "        nn.BatchNorm2d(256,track_running_stats=False),\n",
    "        nn.ReLU(),\n",
    "        \n",
    "        nn.MaxPool2d(2, 2),\n",
    "        \n",
    "        nn.Conv2d(256, 256, 3),\n",
    "        nn.BatchNorm2d(256,track_running_stats=False),\n",
    "        nn.ReLU(),\n",
    "        \n",
    "        nn.Flatten(),\n",
    "        nn.Dropout(p=0.5),\n",
    "        nn.Linear(1024, 10),\n",
    "    )\n",
    "toy_net()"
   ]
  },
  {
   "cell_type": "code",
   "execution_count": 7,
   "id": "abd629da",
   "metadata": {},
   "outputs": [
    {
     "data": {
      "text/plain": [
       "torch.Size([64, 24, 24])"
      ]
     },
     "execution_count": 7,
     "metadata": {},
     "output_type": "execute_result"
    }
   ],
   "source": [
    "nn.Conv2d(64, 64, 3)(nn.Conv2d(64, 64, 3)(nn.Conv2d(64, 64, 3)(nn.Conv2d(3, 64, 3)(dataset[0][0])))).size()"
   ]
  },
  {
   "cell_type": "code",
   "execution_count": 8,
   "id": "e6713154",
   "metadata": {
    "scrolled": false
   },
   "outputs": [
    {
     "data": {
      "text/plain": [
       "dict_keys(['0.weight', '0.bias', '1.weight', '1.bias', '3.weight', '3.bias', '4.weight', '4.bias', '6.weight', '6.bias', '7.weight', '7.bias', '10.weight', '10.bias', '11.weight', '11.bias', '13.weight', '13.bias', '14.weight', '14.bias', '17.weight', '17.bias', '18.weight', '18.bias', '22.weight', '22.bias'])"
      ]
     },
     "execution_count": 8,
     "metadata": {},
     "output_type": "execute_result"
    }
   ],
   "source": [
    "dict(toy_net().state_dict()).keys()"
   ]
  },
  {
   "cell_type": "code",
   "execution_count": null,
   "id": "f3378b96",
   "metadata": {},
   "outputs": [],
   "source": []
  },
  {
   "cell_type": "code",
   "execution_count": null,
   "id": "ff482e0c",
   "metadata": {},
   "outputs": [],
   "source": []
  },
  {
   "cell_type": "code",
   "execution_count": 9,
   "id": "dee33c2d",
   "metadata": {},
   "outputs": [
    {
     "data": {
      "text/plain": [
       "tensor([[ 0.1659, -0.2374,  0.0169,  0.2209,  0.6340, -0.5912,  0.6992,  0.0498,\n",
       "          0.7561,  0.3160]], grad_fn=<AddmmBackward0>)"
      ]
     },
     "execution_count": 9,
     "metadata": {},
     "output_type": "execute_result"
    }
   ],
   "source": [
    "toy_net()(dataset[0][0].unsqueeze(0))"
   ]
  },
  {
   "cell_type": "markdown",
   "id": "3b069ab6",
   "metadata": {},
   "source": [
    "## Server-Clients configuration"
   ]
  },
  {
   "cell_type": "code",
   "execution_count": 10,
   "id": "964d4f8b",
   "metadata": {},
   "outputs": [],
   "source": [
    "# underlying module must be of the same class in server & clients\n",
    "server = Server(toy_net().to(device))\n",
    "N = 8 # number of clients\n",
    "partition = partition_by_class(train_dataset)\n",
    "\n",
    "# for even (iid) split -> set alpha to very big value like 10e8 or very small like 10e-8\n",
    "# here alpha=0.1 creates very uneven (non-iid) splits\n",
    "clients = [Client(i,d,toy_net().to(device)) for i,d in enumerate(split(partition,N,alpha=0.1),start=1)]"
   ]
  },
  {
   "cell_type": "code",
   "execution_count": 11,
   "id": "e59b7239",
   "metadata": {},
   "outputs": [],
   "source": [
    "def run(server,clients,device,train_dataset,valid_dataset,rounds,epochs,batch_size,optimizer,lr,**kwargs):\n",
    "    train_loader = DeviceDataLoader(DataLoader(train_dataset, batch_size, shuffle=True), device)\n",
    "    valid_loader = DeviceDataLoader(DataLoader(valid_dataset, batch_size, shuffle=True), device)\n",
    "    history = []\n",
    "\n",
    "    server.reset_weights()\n",
    "    for i in range(rounds):\n",
    "        print(f'Start Round {i+1} ...')\n",
    "        server_params = server.net.state_dict()\n",
    "        clients_params = []\n",
    "        for client in clients:\n",
    "                    #train(device, state_dict, epochs, batch_size, opt, lr, **kwargs)\n",
    "            client.train(device,server_params,epochs,batch_size, optimizer,lr,**kwargs)\n",
    "        server.merge(clients)\n",
    "        \n",
    "        train_loss, train_acc = evaluate(server.net,train_loader)\n",
    "        dev_loss, dev_acc = evaluate(server.net,valid_loader)\n",
    "        \n",
    "        print(f'''After round {i+1} :\n",
    "        - training loss = {train_loss:.4f}\n",
    "        - training accuracy = {train_acc:.4f}\n",
    "        - validation loss = {dev_loss:.4f}\n",
    "        - validation accuracy = {dev_acc:.4f}\n",
    "        ''')\n",
    "        \n",
    "        history.append((train_loss, dev_loss))\n",
    "    return history"
   ]
  },
  {
   "cell_type": "code",
   "execution_count": 12,
   "id": "8793875b",
   "metadata": {},
   "outputs": [
    {
     "name": "stdout",
     "output_type": "stream",
     "text": [
      "4547\n",
      "926\n",
      "6968\n",
      "9350\n",
      "4330\n",
      "3367\n",
      "8904\n",
      "3108\n"
     ]
    }
   ],
   "source": [
    "for c in clients:\n",
    "    print(c.dataset.__len__())"
   ]
  },
  {
   "cell_type": "markdown",
   "id": "0e0715e6",
   "metadata": {},
   "source": [
    "## SGD"
   ]
  },
  {
   "cell_type": "code",
   "execution_count": 13,
   "id": "29dcc845",
   "metadata": {},
   "outputs": [],
   "source": [
    "rounds = 25\n",
    "batch_size = 128\n",
    "epochs = 5\n",
    "lr = 1e-2"
   ]
  },
  {
   "cell_type": "code",
   "execution_count": 14,
   "id": "603f3503",
   "metadata": {
    "scrolled": false
   },
   "outputs": [
    {
     "name": "stdout",
     "output_type": "stream",
     "text": [
      "Start Round 1 ...\n",
      "1: Loss = 0.2921, Accuracy = 0.8854\n",
      "2: Loss = 0.0971, Accuracy = 0.9717\n",
      "3: Loss = 0.4582, Accuracy = 0.8522\n",
      "4: Loss = 0.6248, Accuracy = 0.7959\n",
      "5: Loss = 0.2228, Accuracy = 0.9486\n",
      "6: Loss = 0.5130, Accuracy = 0.8376\n",
      "7: Loss = 0.5955, Accuracy = 0.8179\n",
      "8: Loss = 0.0615, Accuracy = 0.9903\n",
      "After round 1 :\n",
      "        - training loss = 2.8044\n",
      "        - training accuracy = 0.2273\n",
      "        - validation loss = 2.8131\n",
      "        - validation accuracy = 0.2289\n",
      "        \n",
      "Start Round 2 ...\n",
      "1: Loss = 0.2827, Accuracy = 0.8886\n",
      "2: Loss = 0.1209, Accuracy = 0.9663\n",
      "3: Loss = 0.3831, Accuracy = 0.8751\n",
      "4: Loss = 0.5020, Accuracy = 0.8331\n",
      "5: Loss = 0.1957, Accuracy = 0.9487\n",
      "6: Loss = 0.4221, Accuracy = 0.8593\n",
      "7: Loss = 0.4628, Accuracy = 0.8557\n",
      "8: Loss = 0.0630, Accuracy = 0.9903\n",
      "After round 2 :\n",
      "        - training loss = 2.3387\n",
      "        - training accuracy = 0.2348\n",
      "        - validation loss = 2.3579\n",
      "        - validation accuracy = 0.2404\n",
      "        \n",
      "Start Round 3 ...\n",
      "1: Loss = 0.2710, Accuracy = 0.8985\n",
      "2: Loss = 0.0842, Accuracy = 0.9756\n",
      "3: Loss = 0.3020, Accuracy = 0.8938\n",
      "4: Loss = 0.3582, Accuracy = 0.8754\n",
      "5: Loss = 0.1678, Accuracy = 0.9537\n",
      "6: Loss = 0.3961, Accuracy = 0.8649\n",
      "7: Loss = 0.3575, Accuracy = 0.8806\n",
      "8: Loss = 0.0503, Accuracy = 0.9903\n",
      "After round 3 :\n",
      "        - training loss = 2.0528\n",
      "        - training accuracy = 0.3385\n",
      "        - validation loss = 2.0861\n",
      "        - validation accuracy = 0.3351\n",
      "        \n",
      "Start Round 4 ...\n",
      "1: Loss = 0.2074, Accuracy = 0.9191\n",
      "2: Loss = 0.0383, Accuracy = 0.9863\n",
      "3: Loss = 0.2519, Accuracy = 0.9124\n",
      "4: Loss = 0.2277, Accuracy = 0.9185\n",
      "5: Loss = 0.1616, Accuracy = 0.9629\n",
      "6: Loss = 0.2826, Accuracy = 0.9013\n",
      "7: Loss = 0.2873, Accuracy = 0.9030\n",
      "8: Loss = 0.0472, Accuracy = 0.9903\n",
      "After round 4 :\n",
      "        - training loss = 1.7832\n",
      "        - training accuracy = 0.4276\n",
      "        - validation loss = 1.8058\n",
      "        - validation accuracy = 0.4333\n",
      "        \n",
      "Start Round 5 ...\n",
      "1: Loss = 0.1328, Accuracy = 0.9505\n",
      "2: Loss = 0.0373, Accuracy = 0.9858\n",
      "3: Loss = 0.1940, Accuracy = 0.9287\n",
      "4: Loss = 0.1765, Accuracy = 0.9367\n",
      "5: Loss = 0.1338, Accuracy = 0.9640\n",
      "6: Loss = 0.2011, Accuracy = 0.9233\n",
      "7: Loss = 0.2252, Accuracy = 0.9195\n",
      "8: Loss = 0.0312, Accuracy = 0.9903\n",
      "After round 5 :\n",
      "        - training loss = 1.5994\n",
      "        - training accuracy = 0.5045\n",
      "        - validation loss = 1.6657\n",
      "        - validation accuracy = 0.5007\n",
      "        \n",
      "Start Round 6 ...\n",
      "1: Loss = 0.1009, Accuracy = 0.9584\n",
      "2: Loss = 0.0250, Accuracy = 0.9900\n",
      "3: Loss = 0.1529, Accuracy = 0.9440\n",
      "4: Loss = 0.1260, Accuracy = 0.9540\n",
      "5: Loss = 0.1269, Accuracy = 0.9679\n",
      "6: Loss = 0.1468, Accuracy = 0.9459\n",
      "7: Loss = 0.1806, Accuracy = 0.9385\n",
      "8: Loss = 0.0231, Accuracy = 0.9919\n",
      "After round 6 :\n",
      "        - training loss = 1.3809\n",
      "        - training accuracy = 0.5975\n",
      "        - validation loss = 1.4771\n",
      "        - validation accuracy = 0.5864\n",
      "        \n",
      "Start Round 7 ...\n",
      "1: Loss = 0.0804, Accuracy = 0.9696\n",
      "2: Loss = 0.0208, Accuracy = 0.9932\n",
      "3: Loss = 0.1130, Accuracy = 0.9590\n",
      "4: Loss = 0.1758, Accuracy = 0.9389\n",
      "5: Loss = 0.0889, Accuracy = 0.9721\n",
      "6: Loss = 0.1216, Accuracy = 0.9530\n",
      "7: Loss = 0.1368, Accuracy = 0.9521\n",
      "8: Loss = 0.0242, Accuracy = 0.9920\n",
      "After round 7 :\n",
      "        - training loss = 1.2378\n",
      "        - training accuracy = 0.6356\n",
      "        - validation loss = 1.3556\n",
      "        - validation accuracy = 0.6149\n",
      "        \n",
      "Start Round 8 ...\n",
      "1: Loss = 0.0636, Accuracy = 0.9781\n",
      "2: Loss = 0.0196, Accuracy = 0.9932\n",
      "3: Loss = 0.0892, Accuracy = 0.9676\n",
      "4: Loss = 0.1393, Accuracy = 0.9573\n",
      "5: Loss = 0.0812, Accuracy = 0.9758\n",
      "6: Loss = 0.0949, Accuracy = 0.9669\n",
      "7: Loss = 0.1168, Accuracy = 0.9599\n",
      "8: Loss = 0.0141, Accuracy = 0.9953\n",
      "After round 8 :\n",
      "        - training loss = 1.2161\n",
      "        - training accuracy = 0.6473\n",
      "        - validation loss = 1.3742\n",
      "        - validation accuracy = 0.6204\n",
      "        \n",
      "Start Round 9 ...\n",
      "1: Loss = 0.0490, Accuracy = 0.9824\n",
      "2: Loss = 0.0157, Accuracy = 0.9980\n",
      "3: Loss = 0.0795, Accuracy = 0.9702\n",
      "4: Loss = 0.1880, Accuracy = 0.9337\n",
      "5: Loss = 0.0820, Accuracy = 0.9756\n",
      "6: Loss = 0.0748, Accuracy = 0.9745\n",
      "7: Loss = 0.1061, Accuracy = 0.9630\n",
      "8: Loss = 0.0153, Accuracy = 0.9950\n",
      "After round 9 :\n",
      "        - training loss = 1.1057\n",
      "        - training accuracy = 0.6669\n",
      "        - validation loss = 1.2610\n",
      "        - validation accuracy = 0.6330\n",
      "        \n",
      "Start Round 10 ...\n",
      "1: Loss = 0.0343, Accuracy = 0.9900\n",
      "2: Loss = 0.0308, Accuracy = 0.9900\n",
      "3: Loss = 0.0623, Accuracy = 0.9776\n",
      "4: Loss = 0.0597, Accuracy = 0.9842\n",
      "5: Loss = 0.0697, Accuracy = 0.9772\n",
      "6: Loss = 0.0632, Accuracy = 0.9772\n",
      "7: Loss = 0.1021, Accuracy = 0.9646\n",
      "8: Loss = 0.0093, Accuracy = 0.9959\n",
      "After round 10 :\n",
      "        - training loss = 1.1297\n",
      "        - training accuracy = 0.6786\n",
      "        - validation loss = 1.3541\n",
      "        - validation accuracy = 0.6319\n",
      "        \n",
      "Start Round 11 ...\n",
      "1: Loss = 0.0354, Accuracy = 0.9890\n",
      "2: Loss = 0.0198, Accuracy = 0.9922\n",
      "3: Loss = 0.0660, Accuracy = 0.9766\n",
      "4: Loss = 0.0449, Accuracy = 0.9850\n",
      "5: Loss = 0.0526, Accuracy = 0.9813\n",
      "6: Loss = 0.0574, Accuracy = 0.9792\n",
      "7: Loss = 0.0725, Accuracy = 0.9760\n",
      "8: Loss = 0.0070, Accuracy = 0.9972\n",
      "After round 11 :\n",
      "        - training loss = 1.0355\n",
      "        - training accuracy = 0.6916\n",
      "        - validation loss = 1.2943\n",
      "        - validation accuracy = 0.6433\n",
      "        \n",
      "Start Round 12 ...\n",
      "1: Loss = 0.0407, Accuracy = 0.9848\n",
      "2: Loss = 0.0193, Accuracy = 0.9922\n",
      "3: Loss = 0.0569, Accuracy = 0.9817\n",
      "4: Loss = 0.1394, Accuracy = 0.9583\n",
      "5: Loss = 0.0540, Accuracy = 0.9844\n",
      "6: Loss = 0.0560, Accuracy = 0.9807\n",
      "7: Loss = 0.0567, Accuracy = 0.9801\n",
      "8: Loss = 0.0063, Accuracy = 0.9978\n",
      "After round 12 :\n",
      "        - training loss = 0.9712\n",
      "        - training accuracy = 0.7027\n",
      "        - validation loss = 1.2286\n",
      "        - validation accuracy = 0.6458\n",
      "        \n",
      "Start Round 13 ...\n",
      "1: Loss = 0.0348, Accuracy = 0.9885\n",
      "2: Loss = 0.0210, Accuracy = 0.9922\n",
      "3: Loss = 0.0587, Accuracy = 0.9810\n",
      "4: Loss = 0.0673, Accuracy = 0.9779\n",
      "5: Loss = 0.0396, Accuracy = 0.9873\n",
      "6: Loss = 0.0497, Accuracy = 0.9821\n",
      "7: Loss = 0.0629, Accuracy = 0.9779\n",
      "8: Loss = 0.0055, Accuracy = 0.9984\n",
      "After round 13 :\n",
      "        - training loss = 1.0739\n",
      "        - training accuracy = 0.7080\n",
      "        - validation loss = 1.3947\n",
      "        - validation accuracy = 0.6475\n",
      "        \n",
      "Start Round 14 ...\n",
      "1: Loss = 0.0201, Accuracy = 0.9931\n",
      "2: Loss = 0.0168, Accuracy = 0.9910\n",
      "3: Loss = 0.0478, Accuracy = 0.9837\n",
      "4: Loss = 0.2341, Accuracy = 0.9294\n",
      "5: Loss = 0.0394, Accuracy = 0.9900\n",
      "6: Loss = 0.0595, Accuracy = 0.9802\n",
      "7: Loss = 0.0647, Accuracy = 0.9793\n",
      "8: Loss = 0.0064, Accuracy = 0.9975\n",
      "After round 14 :\n",
      "        - training loss = 1.0842\n",
      "        - training accuracy = 0.7067\n",
      "        - validation loss = 1.4002\n",
      "        - validation accuracy = 0.6465\n",
      "        \n",
      "Start Round 15 ...\n",
      "1: Loss = 0.0219, Accuracy = 0.9920\n",
      "2: Loss = 0.0259, Accuracy = 0.9900\n",
      "3: Loss = 0.0572, Accuracy = 0.9803\n",
      "4: Loss = 0.1268, Accuracy = 0.9603\n",
      "5: Loss = 0.0522, Accuracy = 0.9836\n",
      "6: Loss = 0.0327, Accuracy = 0.9907\n",
      "7: Loss = 0.0709, Accuracy = 0.9760\n",
      "8: Loss = 0.0078, Accuracy = 0.9981\n",
      "After round 15 :\n",
      "        - training loss = 1.0512\n",
      "        - training accuracy = 0.7141\n",
      "        - validation loss = 1.3761\n",
      "        - validation accuracy = 0.6457\n",
      "        \n",
      "Start Round 16 ...\n",
      "1: Loss = 0.0139, Accuracy = 0.9963\n",
      "2: Loss = 0.0276, Accuracy = 0.9910\n",
      "3: Loss = 0.0397, Accuracy = 0.9881\n",
      "4: Loss = 0.0780, Accuracy = 0.9762\n",
      "5: Loss = 0.0385, Accuracy = 0.9887\n",
      "6: Loss = 0.0329, Accuracy = 0.9907\n",
      "7: Loss = 0.0747, Accuracy = 0.9756\n",
      "8: Loss = 0.0045, Accuracy = 0.9984\n",
      "After round 16 :\n",
      "        - training loss = 1.0826\n",
      "        - training accuracy = 0.7130\n",
      "        - validation loss = 1.4329\n",
      "        - validation accuracy = 0.6440\n",
      "        \n",
      "Start Round 17 ...\n",
      "1: Loss = 0.0173, Accuracy = 0.9948\n",
      "2: Loss = 0.0073, Accuracy = 0.9980\n",
      "3: Loss = 0.0553, Accuracy = 0.9810\n",
      "4: Loss = 0.1118, Accuracy = 0.9657\n",
      "5: Loss = 0.0339, Accuracy = 0.9883\n",
      "6: Loss = 0.0456, Accuracy = 0.9837\n",
      "7: Loss = 0.0561, Accuracy = 0.9829\n",
      "8: Loss = 0.0058, Accuracy = 0.9987\n",
      "After round 17 :\n",
      "        - training loss = 1.1408\n",
      "        - training accuracy = 0.7105\n",
      "        - validation loss = 1.5185\n",
      "        - validation accuracy = 0.6408\n",
      "        \n",
      "Start Round 18 ...\n",
      "1: Loss = 0.0255, Accuracy = 0.9913\n",
      "2: Loss = 0.0163, Accuracy = 0.9971\n",
      "3: Loss = 0.0449, Accuracy = 0.9831\n"
     ]
    },
    {
     "name": "stdout",
     "output_type": "stream",
     "text": [
      "4: Loss = 0.0509, Accuracy = 0.9827\n",
      "5: Loss = 0.0325, Accuracy = 0.9885\n",
      "6: Loss = 0.0543, Accuracy = 0.9834\n",
      "7: Loss = 0.0743, Accuracy = 0.9769\n",
      "8: Loss = 0.0063, Accuracy = 0.9984\n",
      "After round 18 :\n",
      "        - training loss = 1.0931\n",
      "        - training accuracy = 0.7214\n",
      "        - validation loss = 1.4639\n",
      "        - validation accuracy = 0.6458\n",
      "        \n",
      "Start Round 19 ...\n",
      "1: Loss = 0.0209, Accuracy = 0.9926\n",
      "2: Loss = 0.0381, Accuracy = 0.9922\n",
      "3: Loss = 0.0395, Accuracy = 0.9867\n",
      "4: Loss = 0.0542, Accuracy = 0.9817\n",
      "5: Loss = 0.0298, Accuracy = 0.9912\n",
      "6: Loss = 0.0476, Accuracy = 0.9858\n",
      "7: Loss = 0.0476, Accuracy = 0.9841\n",
      "8: Loss = 0.0042, Accuracy = 0.9987\n",
      "After round 19 :\n",
      "        - training loss = 1.1497\n",
      "        - training accuracy = 0.7219\n",
      "        - validation loss = 1.5502\n",
      "        - validation accuracy = 0.6464\n",
      "        \n",
      "Start Round 20 ...\n",
      "1: Loss = 0.0158, Accuracy = 0.9948\n",
      "2: Loss = 0.0204, Accuracy = 0.9922\n",
      "3: Loss = 0.0446, Accuracy = 0.9853\n",
      "4: Loss = 0.0588, Accuracy = 0.9798\n",
      "5: Loss = 0.0284, Accuracy = 0.9919\n",
      "6: Loss = 0.0469, Accuracy = 0.9855\n",
      "7: Loss = 0.0790, Accuracy = 0.9753\n",
      "8: Loss = 0.0054, Accuracy = 0.9981\n",
      "After round 20 :\n",
      "        - training loss = 1.0143\n",
      "        - training accuracy = 0.7282\n",
      "        - validation loss = 1.4215\n",
      "        - validation accuracy = 0.6470\n",
      "        \n",
      "Start Round 21 ...\n",
      "1: Loss = 0.0241, Accuracy = 0.9924\n",
      "2: Loss = 0.0266, Accuracy = 0.9941\n",
      "3: Loss = 0.0462, Accuracy = 0.9864\n",
      "4: Loss = 0.0318, Accuracy = 0.9901\n",
      "5: Loss = 0.0281, Accuracy = 0.9910\n",
      "6: Loss = 0.0457, Accuracy = 0.9855\n",
      "7: Loss = 0.0704, Accuracy = 0.9761\n",
      "8: Loss = 0.0041, Accuracy = 0.9991\n",
      "After round 21 :\n",
      "        - training loss = 0.9842\n",
      "        - training accuracy = 0.7356\n",
      "        - validation loss = 1.4054\n",
      "        - validation accuracy = 0.6521\n",
      "        \n",
      "Start Round 22 ...\n",
      "1: Loss = 0.0229, Accuracy = 0.9931\n",
      "2: Loss = 0.0251, Accuracy = 0.9941\n",
      "3: Loss = 0.0644, Accuracy = 0.9821\n",
      "4: Loss = 0.0283, Accuracy = 0.9893\n",
      "5: Loss = 0.0271, Accuracy = 0.9901\n",
      "6: Loss = 0.0493, Accuracy = 0.9843\n",
      "7: Loss = 0.0859, Accuracy = 0.9754\n",
      "8: Loss = 0.0049, Accuracy = 0.9994\n",
      "After round 22 :\n",
      "        - training loss = 1.0040\n",
      "        - training accuracy = 0.7345\n",
      "        - validation loss = 1.4314\n",
      "        - validation accuracy = 0.6469\n",
      "        \n",
      "Start Round 23 ...\n",
      "1: Loss = 0.0235, Accuracy = 0.9916\n",
      "2: Loss = 0.0130, Accuracy = 0.9941\n",
      "3: Loss = 0.0460, Accuracy = 0.9876\n",
      "4: Loss = 0.0529, Accuracy = 0.9842\n",
      "5: Loss = 0.0228, Accuracy = 0.9933\n",
      "6: Loss = 0.0346, Accuracy = 0.9884\n",
      "7: Loss = 0.0627, Accuracy = 0.9809\n",
      "8: Loss = 0.0027, Accuracy = 0.9994\n",
      "After round 23 :\n",
      "        - training loss = 1.0428\n",
      "        - training accuracy = 0.7385\n",
      "        - validation loss = 1.5105\n",
      "        - validation accuracy = 0.6526\n",
      "        \n",
      "Start Round 24 ...\n",
      "1: Loss = 0.0165, Accuracy = 0.9946\n",
      "2: Loss = 0.0098, Accuracy = 0.9990\n",
      "3: Loss = 0.0374, Accuracy = 0.9874\n",
      "4: Loss = 0.1668, Accuracy = 0.9575\n",
      "5: Loss = 0.0229, Accuracy = 0.9919\n",
      "6: Loss = 0.0379, Accuracy = 0.9876\n",
      "7: Loss = 0.0516, Accuracy = 0.9838\n",
      "8: Loss = 0.0036, Accuracy = 0.9994\n",
      "After round 24 :\n",
      "        - training loss = 1.1034\n",
      "        - training accuracy = 0.7344\n",
      "        - validation loss = 1.5792\n",
      "        - validation accuracy = 0.6516\n",
      "        \n",
      "Start Round 25 ...\n",
      "1: Loss = 0.0170, Accuracy = 0.9933\n",
      "2: Loss = 0.0263, Accuracy = 0.9951\n",
      "3: Loss = 0.0461, Accuracy = 0.9850\n",
      "4: Loss = 0.0224, Accuracy = 0.9946\n",
      "5: Loss = 0.0488, Accuracy = 0.9843\n",
      "6: Loss = 0.0511, Accuracy = 0.9838\n",
      "7: Loss = 0.0817, Accuracy = 0.9751\n",
      "8: Loss = 0.0060, Accuracy = 0.9981\n",
      "After round 25 :\n",
      "        - training loss = 1.0997\n",
      "        - training accuracy = 0.7360\n",
      "        - validation loss = 1.5976\n",
      "        - validation accuracy = 0.6481\n",
      "        \n"
     ]
    },
    {
     "data": {
      "image/png": "[encoded data removed]",
      "text/plain": [
       "<Figure size 640x480 with 1 Axes>"
      ]
     },
     "metadata": {},
     "output_type": "display_data"
    },
    {
     "name": "stdout",
     "output_type": "stream",
     "text": [
      "CPU times: user 8min 53s, sys: 515 ms, total: 8min 54s\n",
      "Wall time: 8min 51s\n"
     ]
    }
   ],
   "source": [
    "%%time\n",
    "history = run(server,clients,device,train_dataset,valid_dataset,rounds,epochs,batch_size,optim.Adam,lr)\n",
    "plot_loss_epoch(history)"
   ]
  },
  {
   "cell_type": "code",
   "execution_count": null,
   "id": "3dac96df",
   "metadata": {},
   "outputs": [],
   "source": []
  }
 ],
 "metadata": {
  "kernelspec": {
   "display_name": "Python 3 (ipykernel)",
   "language": "python",
   "name": "python3"
  },
  "language_info": {
   "codemirror_mode": {
    "name": "ipython",
    "version": 3
   },
   "file_extension": ".py",
   "mimetype": "text/x-python",
   "name": "python",
   "nbconvert_exporter": "python",
   "pygments_lexer": "ipython3",
   "version": "3.9.13"
  }
 },
 "nbformat": 4,
 "nbformat_minor": 5
}
