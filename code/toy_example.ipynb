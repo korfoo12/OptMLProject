{
 "cells": [
  {
   "cell_type": "code",
   "execution_count": 1,
   "id": "348d0e1f",
   "metadata": {},
   "outputs": [],
   "source": [
    "import torch\n",
    "import torch.nn as nn\n",
    "import torch.optim as optim\n",
    "from torch.utils.data import random_split, DataLoader, IterableDataset\n",
    "\n",
    "from torchvision.datasets import MNIST,CIFAR10\n",
    "import torchvision.transforms as transforms\n",
    "\n",
    "import numpy as np\n",
    "import matplotlib.pyplot as plt\n",
    "\n",
    "from lib.server import Server\n",
    "from lib.client import Client\n",
    "from lib.data_helper import *\n",
    "from lib.train_helper import *\n",
    "from lib.plots import plot_loss_epoch"
   ]
  },
  {
   "cell_type": "markdown",
   "id": "f5e60648",
   "metadata": {},
   "source": [
    "## Data"
   ]
  },
  {
   "cell_type": "code",
   "execution_count": 2,
   "id": "4e1dd57c",
   "metadata": {},
   "outputs": [
    {
     "data": {
      "text/plain": [
       "'cuda'"
      ]
     },
     "execution_count": 2,
     "metadata": {},
     "output_type": "execute_result"
    }
   ],
   "source": [
    "device = 'cuda' if torch.cuda.is_available() else 'cpu'\n",
    "device"
   ]
  },
  {
   "cell_type": "code",
   "execution_count": 3,
   "id": "627dc582",
   "metadata": {},
   "outputs": [
    {
     "data": {
      "text/plain": [
       "Dataset MNIST\n",
       "    Number of datapoints: 60000\n",
       "    Root location: data\n",
       "    Split: Train\n",
       "    StandardTransform\n",
       "Transform: ToTensor()"
      ]
     },
     "execution_count": 3,
     "metadata": {},
     "output_type": "execute_result"
    }
   ],
   "source": [
    "dataset = MNIST('data', train=True, download=True, transform=transforms.ToTensor())\n",
    "dataset"
   ]
  },
  {
   "cell_type": "code",
   "execution_count": 4,
   "id": "678e8a03",
   "metadata": {},
   "outputs": [],
   "source": [
    "train_dataset, valid_dataset = random_split(dataset, [int(len(dataset) * 0.83), int(len(dataset) * 0.17)])"
   ]
  },
  {
   "cell_type": "markdown",
   "id": "72a5fe23",
   "metadata": {},
   "source": [
    "## Network"
   ]
  },
  {
   "cell_type": "code",
   "execution_count": 5,
   "id": "7f7acd4c",
   "metadata": {},
   "outputs": [
    {
     "data": {
      "text/plain": [
       "Sequential(\n",
       "  (0): Conv2d(1, 20, kernel_size=(7, 7), stride=(1, 1))\n",
       "  (1): ReLU()\n",
       "  (2): Conv2d(20, 40, kernel_size=(7, 7), stride=(1, 1))\n",
       "  (3): ReLU()\n",
       "  (4): MaxPool2d(kernel_size=2, stride=2, padding=0, dilation=1, ceil_mode=False)\n",
       "  (5): Flatten(start_dim=1, end_dim=-1)\n",
       "  (6): Linear(in_features=2560, out_features=10, bias=True)\n",
       ")"
      ]
     },
     "execution_count": 5,
     "metadata": {},
     "output_type": "execute_result"
    }
   ],
   "source": [
    "def toy_net():\n",
    "    return nn.Sequential(\n",
    "        nn.Conv2d(1, 20, 7),\n",
    "        nn.ReLU(),\n",
    "        nn.Conv2d(20, 40, 7),\n",
    "        nn.ReLU(),\n",
    "        nn.MaxPool2d(2, 2),\n",
    "        nn.Flatten(),\n",
    "        nn.Linear(2560, 10)\n",
    "    )\n",
    "toy_net()"
   ]
  },
  {
   "cell_type": "markdown",
   "id": "743a8ac3",
   "metadata": {},
   "source": [
    "## Server-Clients configuration"
   ]
  },
  {
   "cell_type": "code",
   "execution_count": 6,
   "id": "cd9070c4",
   "metadata": {},
   "outputs": [],
   "source": [
    "# underlying module must be of the same class in server & clients\n",
    "server = Server(toy_net().to(device))\n",
    "N = 8 # number of clients\n",
    "partition = partition_by_class(train_dataset)\n",
    "\n",
    "# for even (iid) split -> set alpha to very big value like 10e8 or very small like 10e-8\n",
    "# here alpha=0.1 creates very uneven (non-iid) splits\n",
    "clients = [Client(i,d,toy_net().to(device)) for i,d in enumerate(split(partition,N,alpha=0.1),start=1)]"
   ]
  },
  {
   "cell_type": "code",
   "execution_count": 7,
   "id": "3bcce7c3",
   "metadata": {},
   "outputs": [],
   "source": [
    "def run(server,clients,device,train_dataset,valid_dataset,rounds,epochs,batch_size,optimizer,lr,**kwargs):\n",
    "    train_loader = DeviceDataLoader(DataLoader(train_dataset, batch_size, shuffle=True), device)\n",
    "    valid_loader = DeviceDataLoader(DataLoader(valid_dataset, batch_size, shuffle=True), device)\n",
    "    history = []\n",
    "    for i in range(rounds):\n",
    "        print(f'Start Round {i+1} ...')\n",
    "        server_params = server.net.state_dict()\n",
    "        clients_params = []\n",
    "        for client in clients:\n",
    "                    #train(device, state_dict, epochs, batch_size, opt, lr, **kwargs)\n",
    "            client.train(device,server_params,epochs,batch_size, optimizer,lr,**kwargs)\n",
    "        server.merge(clients)\n",
    "        \n",
    "        train_loss, train_acc = evaluate(server.net,train_loader)\n",
    "        dev_loss, dev_acc = evaluate(server.net,valid_loader)\n",
    "        \n",
    "        print(f'''After round {i+1} :\n",
    "        - training loss = {train_loss:.4f}\n",
    "        - training accuracy = {train_acc:.4f}\n",
    "        - validation loss = {dev_loss:.4f}\n",
    "        - validation accuracy = {dev_acc:.4f}\n",
    "        ''')\n",
    "        \n",
    "        history.append((train_loss, dev_loss))\n",
    "    return history"
   ]
  },
  {
   "cell_type": "markdown",
   "id": "58084a99",
   "metadata": {},
   "source": [
    "## SGD"
   ]
  },
  {
   "cell_type": "code",
   "execution_count": 8,
   "id": "08eb0f67",
   "metadata": {},
   "outputs": [],
   "source": [
    "rounds = 10\n",
    "batch_size = 128\n",
    "epochs = 3\n",
    "lr = 1e-3"
   ]
  },
  {
   "cell_type": "code",
   "execution_count": 13,
   "id": "76e283c4",
   "metadata": {
    "scrolled": false
   },
   "outputs": [
    {
     "name": "stdout",
     "output_type": "stream",
     "text": [
      "Start Round 1 ...\n",
      "1: Loss = 0.2747, Accuracy = 0.9156\n",
      "2: Loss = 0.2621, Accuracy = 0.9273\n",
      "3: Loss = 0.1790, Accuracy = 0.9452\n",
      "4: Loss = 0.2736, Accuracy = 0.9098\n",
      "5: Loss = 0.2189, Accuracy = 0.9383\n",
      "6: Loss = 0.0296, Accuracy = 0.9944\n",
      "7: Loss = 0.2823, Accuracy = 0.9172\n",
      "8: Loss = 0.1119, Accuracy = 0.9686\n",
      "After round 1 :\n",
      "        - training loss = 0.8108\n",
      "        - training accuracy = 0.7427\n",
      "        - validation loss = 0.8151\n",
      "        - validation accuracy = 0.7443\n",
      "        \n",
      "Start Round 2 ...\n",
      "1: Loss = 0.2681, Accuracy = 0.9175\n",
      "2: Loss = 0.2554, Accuracy = 0.9276\n",
      "3: Loss = 0.1725, Accuracy = 0.9463\n",
      "4: Loss = 0.2665, Accuracy = 0.9136\n",
      "5: Loss = 0.2131, Accuracy = 0.9379\n",
      "6: Loss = 0.0279, Accuracy = 0.9947\n",
      "7: Loss = 0.2774, Accuracy = 0.9172\n",
      "8: Loss = 0.1065, Accuracy = 0.9686\n",
      "After round 2 :\n",
      "        - training loss = 0.7610\n",
      "        - training accuracy = 0.7561\n",
      "        - validation loss = 0.7633\n",
      "        - validation accuracy = 0.7567\n",
      "        \n",
      "Start Round 3 ...\n",
      "1: Loss = 0.2616, Accuracy = 0.9199\n",
      "2: Loss = 0.2462, Accuracy = 0.9288\n",
      "3: Loss = 0.1682, Accuracy = 0.9463\n",
      "4: Loss = 0.2595, Accuracy = 0.9141\n",
      "5: Loss = 0.2065, Accuracy = 0.9400\n",
      "6: Loss = 0.0261, Accuracy = 0.9947\n",
      "7: Loss = 0.2720, Accuracy = 0.9188\n",
      "8: Loss = 0.1037, Accuracy = 0.9691\n",
      "After round 3 :\n",
      "        - training loss = 0.7414\n",
      "        - training accuracy = 0.7586\n",
      "        - validation loss = 0.7447\n",
      "        - validation accuracy = 0.7592\n",
      "        \n",
      "Start Round 4 ...\n",
      "1: Loss = 0.2562, Accuracy = 0.9219\n",
      "2: Loss = 0.2420, Accuracy = 0.9306\n",
      "3: Loss = 0.1651, Accuracy = 0.9479\n",
      "4: Loss = 0.2572, Accuracy = 0.9132\n",
      "5: Loss = 0.2025, Accuracy = 0.9400\n",
      "6: Loss = 0.0251, Accuracy = 0.9950\n",
      "7: Loss = 0.2681, Accuracy = 0.9196\n",
      "8: Loss = 0.1053, Accuracy = 0.9682\n",
      "After round 4 :\n",
      "        - training loss = 0.7378\n",
      "        - training accuracy = 0.7630\n",
      "        - validation loss = 0.7406\n",
      "        - validation accuracy = 0.7634\n",
      "        \n",
      "Start Round 5 ...\n",
      "1: Loss = 0.2528, Accuracy = 0.9227\n",
      "2: Loss = 0.2363, Accuracy = 0.9342\n",
      "3: Loss = 0.1613, Accuracy = 0.9488\n",
      "4: Loss = 0.2473, Accuracy = 0.9169\n",
      "5: Loss = 0.1976, Accuracy = 0.9420\n",
      "6: Loss = 0.0239, Accuracy = 0.9947\n",
      "7: Loss = 0.2640, Accuracy = 0.9199\n",
      "8: Loss = 0.1011, Accuracy = 0.9706\n",
      "After round 5 :\n",
      "        - training loss = 0.7101\n",
      "        - training accuracy = 0.7692\n",
      "        - validation loss = 0.7155\n",
      "        - validation accuracy = 0.7681\n",
      "        \n",
      "Start Round 6 ...\n",
      "1: Loss = 0.2513, Accuracy = 0.9233\n",
      "2: Loss = 0.2326, Accuracy = 0.9313\n",
      "3: Loss = 0.1583, Accuracy = 0.9510\n",
      "4: Loss = 0.2437, Accuracy = 0.9187\n",
      "5: Loss = 0.1942, Accuracy = 0.9414\n",
      "6: Loss = 0.0229, Accuracy = 0.9950\n",
      "7: Loss = 0.2593, Accuracy = 0.9219\n",
      "8: Loss = 0.0985, Accuracy = 0.9709\n",
      "After round 6 :\n",
      "        - training loss = 0.6940\n",
      "        - training accuracy = 0.7722\n",
      "        - validation loss = 0.6974\n",
      "        - validation accuracy = 0.7728\n",
      "        \n",
      "Start Round 7 ...\n",
      "1: Loss = 0.2481, Accuracy = 0.9223\n",
      "2: Loss = 0.2287, Accuracy = 0.9350\n",
      "3: Loss = 0.1565, Accuracy = 0.9509\n",
      "4: Loss = 0.2395, Accuracy = 0.9179\n",
      "5: Loss = 0.1895, Accuracy = 0.9424\n",
      "6: Loss = 0.0222, Accuracy = 0.9950\n",
      "7: Loss = 0.2565, Accuracy = 0.9222\n",
      "8: Loss = 0.0952, Accuracy = 0.9715\n",
      "After round 7 :\n",
      "        - training loss = 0.6848\n",
      "        - training accuracy = 0.7747\n",
      "        - validation loss = 0.6880\n",
      "        - validation accuracy = 0.7750\n",
      "        \n",
      "Start Round 8 ...\n",
      "1: Loss = 0.2458, Accuracy = 0.9232\n",
      "2: Loss = 0.2249, Accuracy = 0.9366\n",
      "3: Loss = 0.1534, Accuracy = 0.9512\n",
      "4: Loss = 0.2405, Accuracy = 0.9152\n",
      "5: Loss = 0.1875, Accuracy = 0.9441\n",
      "6: Loss = 0.0217, Accuracy = 0.9953\n",
      "7: Loss = 0.2516, Accuracy = 0.9248\n",
      "8: Loss = 0.0950, Accuracy = 0.9721\n",
      "After round 8 :\n",
      "        - training loss = 0.6748\n",
      "        - training accuracy = 0.7770\n",
      "        - validation loss = 0.6789\n",
      "        - validation accuracy = 0.7773\n",
      "        \n",
      "Start Round 9 ...\n",
      "1: Loss = 0.2400, Accuracy = 0.9241\n",
      "2: Loss = 0.2268, Accuracy = 0.9332\n",
      "3: Loss = 0.1515, Accuracy = 0.9518\n",
      "4: Loss = 0.2351, Accuracy = 0.9198\n",
      "5: Loss = 0.1846, Accuracy = 0.9451\n",
      "6: Loss = 0.0213, Accuracy = 0.9955\n",
      "7: Loss = 0.2500, Accuracy = 0.9237\n",
      "8: Loss = 0.0902, Accuracy = 0.9742\n",
      "After round 9 :\n",
      "        - training loss = 0.6644\n",
      "        - training accuracy = 0.7819\n",
      "        - validation loss = 0.6682\n",
      "        - validation accuracy = 0.7816\n",
      "        \n",
      "Start Round 10 ...\n",
      "1: Loss = 0.2376, Accuracy = 0.9263\n",
      "2: Loss = 0.2205, Accuracy = 0.9373\n",
      "3: Loss = 0.1492, Accuracy = 0.9516\n",
      "4: Loss = 0.2296, Accuracy = 0.9208\n",
      "5: Loss = 0.1830, Accuracy = 0.9443\n",
      "6: Loss = 0.0212, Accuracy = 0.9955\n",
      "7: Loss = 0.2472, Accuracy = 0.9260\n",
      "8: Loss = 0.0909, Accuracy = 0.9727\n",
      "After round 10 :\n",
      "        - training loss = 0.6526\n",
      "        - training accuracy = 0.7850\n",
      "        - validation loss = 0.6578\n",
      "        - validation accuracy = 0.7845\n",
      "        \n"
     ]
    },
    {
     "data": {
      "image/png": "[encoded data removed]",
      "text/plain": [
       "<Figure size 640x480 with 1 Axes>"
      ]
     },
     "metadata": {},
     "output_type": "display_data"
    }
   ],
   "source": [
    "history = run(server,clients,device,train_dataset,valid_dataset,rounds,epochs,batch_size,optim.SGD,lr)\n",
    "plot_loss_epoch(history)"
   ]
  },
  {
   "cell_type": "markdown",
   "id": "183b59dd",
   "metadata": {},
   "source": [
    "## Adagrad"
   ]
  },
  {
   "cell_type": "code",
   "execution_count": null,
   "id": "d8da8ac5",
   "metadata": {},
   "outputs": [
    {
     "name": "stdout",
     "output_type": "stream",
     "text": [
      "Start Round 1 ...\n",
      "1: Loss = 0.1992, Accuracy = 0.9366\n",
      "2: Loss = 0.1874, Accuracy = 0.9422\n",
      "3: Loss = 0.1114, Accuracy = 0.9644\n",
      "4: Loss = 0.1933, Accuracy = 0.9318\n",
      "5: Loss = 0.1431, Accuracy = 0.9562\n",
      "6: Loss = 0.0158, Accuracy = 0.9967\n",
      "7: Loss = 0.1789, Accuracy = 0.9475\n",
      "8: Loss = 0.0729, Accuracy = 0.9776\n",
      "After round 1 :\n",
      "        - training loss = 0.7598\n",
      "        - training accuracy = 0.7661\n",
      "        - validation loss = 0.7611\n",
      "        - validation accuracy = 0.7674\n",
      "        \n",
      "Start Round 2 ...\n",
      "1: Loss = 0.1725, Accuracy = 0.9464\n",
      "2: Loss = 0.1528, Accuracy = 0.9527\n",
      "3: Loss = 0.0905, Accuracy = 0.9712\n",
      "4: Loss = 0.1566, Accuracy = 0.9446\n",
      "5: Loss = 0.1151, Accuracy = 0.9660\n",
      "6: Loss = 0.0122, Accuracy = 0.9972\n",
      "7: Loss = 0.1514, Accuracy = 0.9566\n",
      "8: Loss = 0.0671, Accuracy = 0.9789\n",
      "After round 2 :\n",
      "        - training loss = 0.6852\n",
      "        - training accuracy = 0.7839\n",
      "        - validation loss = 0.6897\n",
      "        - validation accuracy = 0.7856\n",
      "        \n",
      "Start Round 3 ...\n",
      "1: Loss = 0.1367, Accuracy = 0.9578\n",
      "2: Loss = 0.1276, Accuracy = 0.9607\n",
      "3: Loss = 0.0683, Accuracy = 0.9803\n",
      "4: Loss = 0.1192, Accuracy = 0.9599\n",
      "5: Loss = 0.0950, Accuracy = 0.9705\n",
      "6: Loss = 0.0115, Accuracy = 0.9978\n",
      "7: Loss = 0.1254, Accuracy = 0.9645\n",
      "8: Loss = 0.0576, Accuracy = 0.9824\n",
      "After round 3 :\n",
      "        - training loss = 0.6028\n",
      "        - training accuracy = 0.8061\n",
      "        - validation loss = 0.6082\n",
      "        - validation accuracy = 0.8068\n",
      "        \n",
      "Start Round 4 ...\n",
      "1: Loss = 0.1090, Accuracy = 0.9680\n",
      "2: Loss = 0.0977, Accuracy = 0.9724\n",
      "3: Loss = 0.0560, Accuracy = 0.9835\n",
      "4: Loss = 0.0943, Accuracy = 0.9686\n",
      "5: Loss = 0.0766, Accuracy = 0.9756\n",
      "6: Loss = 0.0092, Accuracy = 0.9980\n",
      "7: Loss = 0.1046, Accuracy = 0.9721\n",
      "8: Loss = 0.0481, Accuracy = 0.9863\n",
      "After round 4 :\n",
      "        - training loss = 0.5251\n",
      "        - training accuracy = 0.8259\n",
      "        - validation loss = 0.5314\n",
      "        - validation accuracy = 0.8280\n",
      "        \n",
      "Start Round 5 ...\n",
      "1: Loss = 0.0889, Accuracy = 0.9756\n",
      "2: Loss = 0.0838, Accuracy = 0.9766\n",
      "3: Loss = 0.0459, Accuracy = 0.9861\n",
      "4: Loss = 0.0716, Accuracy = 0.9779\n",
      "5: Loss = 0.0630, Accuracy = 0.9799\n",
      "6: Loss = 0.0071, Accuracy = 0.9986\n",
      "7: Loss = 0.0886, Accuracy = 0.9751\n",
      "8: Loss = 0.0407, Accuracy = 0.9867\n",
      "After round 5 :\n",
      "        - training loss = 0.4588\n",
      "        - training accuracy = 0.8493\n",
      "        - validation loss = 0.4672\n",
      "        - validation accuracy = 0.8504\n",
      "        \n",
      "Start Round 6 ...\n",
      "1: Loss = 0.0738, Accuracy = 0.9814\n",
      "2: Loss = 0.0705, Accuracy = 0.9823\n",
      "3: Loss = 0.0394, Accuracy = 0.9881\n",
      "4: Loss = 0.0593, Accuracy = 0.9816\n"
     ]
    }
   ],
   "source": [
    "history = run(server,clients,device,train_dataset,valid_dataset,rounds,epochs,batch_size,optim.Adagrad,lr)\n",
    "plot_loss_epoch(history)"
   ]
  },
  {
   "cell_type": "code",
   "execution_count": null,
   "id": "446ad1ed",
   "metadata": {},
   "outputs": [],
   "source": []
  }
 ],
 "metadata": {
  "kernelspec": {
   "display_name": "Python 3",
   "language": "python",
   "name": "python3"
  },
  "language_info": {
   "codemirror_mode": {
    "name": "ipython",
    "version": 3
   },
   "file_extension": ".py",
   "mimetype": "text/x-python",
   "name": "python",
   "nbconvert_exporter": "python",
   "pygments_lexer": "ipython3",
   "version": "3.8.8"
  }
 },
 "nbformat": 4,
 "nbformat_minor": 5
}
