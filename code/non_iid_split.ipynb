{
 "cells": [
  {
   "cell_type": "code",
   "execution_count": 187,
   "id": "4430b9f9",
   "metadata": {},
   "outputs": [],
   "source": [
    "import torch\n",
    "from torchvision.datasets import MNIST,CIFAR100,CIFAR10\n",
    "from torch.utils.data import random_split, DataLoader, IterableDataset\n",
    "import torchvision.transforms as transforms\n",
    "import matplotlib.pyplot as plt\n",
    "from torch.distributions.dirichlet import Dirichlet\n",
    "from itertools import groupby\n",
    "import random"
   ]
  },
  {
   "cell_type": "code",
   "execution_count": 186,
   "id": "45902c7b",
   "metadata": {},
   "outputs": [],
   "source": [
    "def partition_by_class(dataset: IterableDataset):\n",
    "    key = lambda x: x[1]\n",
    "    return {k:list(vs) for k,vs in groupby(sorted(dataset,key=key), key)}"
   ]
  },
  {
   "cell_type": "code",
   "execution_count": 244,
   "id": "5c34b7ba",
   "metadata": {},
   "outputs": [],
   "source": [
    "def split(partition, nb_nodes: int, alpha: float = 1.):\n",
    "    splitter = Dirichlet(torch.ones(nb_nodes)*alpha)\n",
    "    nodes = [list() for i in range(nb_nodes)]\n",
    "    \n",
    "    # iterate class and add a random nb of samples to each node\n",
    "    for k,vs in partition.items():\n",
    "        random.shuffle(vs)\n",
    "        \n",
    "        nbs = splitter.sample() * len(vs)\n",
    "        indices = torch.cat((torch.zeros(1),nbs.cumsum(0).round()),0).long()\n",
    "        \n",
    "        for i,(start,stop) in enumerate(zip(indices[:-1],indices[1:])):\n",
    "            nodes[i] += vs[start:stop]\n",
    "    return nodes"
   ]
  },
  {
   "cell_type": "code",
   "execution_count": 273,
   "id": "a860ab90",
   "metadata": {},
   "outputs": [],
   "source": [
    "train_dataset = MNIST('data', train=True, download=True, transform=transforms.ToTensor())"
   ]
  },
  {
   "cell_type": "code",
   "execution_count": 274,
   "id": "c1bb006a",
   "metadata": {},
   "outputs": [],
   "source": [
    "partition = partition_by_class(train_dataset)"
   ]
  },
  {
   "cell_type": "code",
   "execution_count": 275,
   "id": "6821803b",
   "metadata": {
    "scrolled": false
   },
   "outputs": [
    {
     "name": "stdout",
     "output_type": "stream",
     "text": [
      "total # of samples : 60000\n",
      " - class 0 : 5923\n",
      " - class 1 : 6742\n",
      " - class 2 : 5958\n",
      " - class 3 : 6131\n",
      " - class 4 : 5842\n",
      " - class 5 : 5421\n",
      " - class 6 : 5918\n",
      " - class 7 : 6265\n",
      " - class 8 : 5851\n",
      " - class 9 : 5949\n"
     ]
    }
   ],
   "source": [
    "print(f\"total # of samples : {len(train_dataset)}\")\n",
    "for k,v in partition.items():\n",
    "    print(f\" - class {k} : {len(v)}\")"
   ]
  },
  {
   "cell_type": "code",
   "execution_count": 276,
   "id": "35c7c0b2",
   "metadata": {
    "scrolled": false
   },
   "outputs": [
    {
     "name": "stdout",
     "output_type": "stream",
     "text": [
      "node 0 :\n",
      " - class 0 : 1772\n",
      " - class 1 : 32\n",
      " - class 2 : 73\n",
      " - class 3 : 19\n",
      " - class 4 : 327\n",
      " - class 6 : 4592\n",
      " - class 9 : 257\n",
      "TOTAL      : 7072\n",
      "\n",
      "node 1 :\n",
      " - class 0 : 4\n",
      " - class 1 : 3\n",
      " - class 2 : 71\n",
      " - class 6 : 7\n",
      " - class 7 : 11\n",
      " - class 8 : 90\n",
      " - class 9 : 2562\n",
      "TOTAL      : 2748\n",
      "\n",
      "node 2 :\n",
      " - class 0 : 1777\n",
      " - class 1 : 4\n",
      " - class 3 : 75\n",
      " - class 5 : 83\n",
      " - class 6 : 186\n",
      " - class 7 : 3\n",
      " - class 8 : 79\n",
      "TOTAL      : 2207\n",
      "\n",
      "node 3 :\n",
      " - class 0 : 111\n",
      " - class 1 : 2593\n",
      " - class 2 : 192\n",
      " - class 3 : 29\n",
      " - class 4 : 563\n",
      " - class 5 : 1411\n",
      " - class 7 : 10\n",
      " - class 8 : 5651\n",
      "TOTAL      : 10560\n",
      "\n",
      "node 4 :\n",
      " - class 1 : 1\n",
      " - class 2 : 5149\n",
      " - class 3 : 1005\n",
      " - class 4 : 33\n",
      " - class 5 : 2483\n",
      " - class 6 : 1133\n",
      " - class 7 : 970\n",
      "TOTAL      : 10774\n",
      "\n",
      "node 5 :\n",
      " - class 5 : 26\n",
      " - class 7 : 1993\n",
      " - class 8 : 2\n",
      " - class 9 : 1\n",
      "TOTAL      : 2022\n",
      "\n",
      "node 6 :\n",
      " - class 0 : 26\n",
      " - class 1 : 1784\n",
      " - class 3 : 3731\n",
      " - class 4 : 193\n",
      " - class 5 : 1405\n",
      " - class 7 : 20\n",
      " - class 9 : 404\n",
      "TOTAL      : 7563\n",
      "\n",
      "node 7 :\n",
      " - class 1 : 2322\n",
      " - class 2 : 17\n",
      " - class 3 : 1263\n",
      " - class 4 : 4712\n",
      " - class 5 : 10\n",
      " - class 8 : 29\n",
      " - class 9 : 602\n",
      "TOTAL      : 8955\n",
      "\n",
      "node 8 :\n",
      " - class 1 : 3\n",
      " - class 2 : 456\n",
      " - class 4 : 1\n",
      " - class 5 : 3\n",
      " - class 7 : 2\n",
      "TOTAL      : 465\n",
      "\n",
      "node 9 :\n",
      " - class 0 : 2233\n",
      " - class 3 : 9\n",
      " - class 4 : 13\n",
      " - class 7 : 3256\n",
      " - class 9 : 2123\n",
      "TOTAL      : 7634\n",
      "\n"
     ]
    }
   ],
   "source": [
    "nodes = split(partition,10,alpha=0.1)\n",
    "for i,n in enumerate(nodes):\n",
    "    print(f\"node {i} :\")\n",
    "    for k,vs in partition_by_class(n).items():\n",
    "        print(f\" - class {k} : {len(vs)}\")\n",
    "    print(f\"TOTAL      : {len(n)}\\n\")"
   ]
  },
  {
   "cell_type": "code",
   "execution_count": null,
   "id": "80b8857c",
   "metadata": {},
   "outputs": [],
   "source": []
  }
 ],
 "metadata": {
  "kernelspec": {
   "display_name": "Python 3 (ipykernel)",
   "language": "python",
   "name": "python3"
  },
  "language_info": {
   "codemirror_mode": {
    "name": "ipython",
    "version": 3
   },
   "file_extension": ".py",
   "mimetype": "text/x-python",
   "name": "python",
   "nbconvert_exporter": "python",
   "pygments_lexer": "ipython3",
   "version": "3.9.13"
  }
 },
 "nbformat": 4,
 "nbformat_minor": 5
}
