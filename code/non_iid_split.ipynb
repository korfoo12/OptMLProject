{
 "cells": [
  {
   "cell_type": "code",
   "execution_count": 187,
   "id": "50a62ca5",
   "metadata": {},
   "outputs": [],
   "source": [
    "import torch\n",
    "from torchvision.datasets import MNIST,CIFAR100,CIFAR10\n",
    "from torch.utils.data import random_split, DataLoader, IterableDataset\n",
    "import torchvision.transforms as transforms\n",
    "import matplotlib.pyplot as plt\n",
    "from torch.distributions.dirichlet import Dirichlet\n",
    "from itertools import groupby\n",
    "import random"
   ]
  },
  {
   "cell_type": "code",
   "execution_count": 186,
   "id": "8a5bb43f",
   "metadata": {},
   "outputs": [],
   "source": [
    "def partition_by_class(dataset: IterableDataset):\n",
    "    key = lambda x: x[1]\n",
    "    return {k:list(vs) for k,vs in groupby(sorted(dataset,key=key), key)}"
   ]
  },
  {
   "cell_type": "code",
   "execution_count": 244,
   "id": "1e2fed40",
   "metadata": {},
   "outputs": [],
   "source": [
    "def split(partition, nb_nodes: int, alpha: float = 1.):\n",
    "    splitter = Dirichlet(torch.ones(nb_nodes)*alpha)\n",
    "    nodes = [list() for i in range(nb_nodes)]\n",
    "    \n",
    "    # iterate class and add a random nb of samples to each node\n",
    "    for k,vs in partition.items():\n",
    "        random.shuffle(vs)\n",
    "        \n",
    "        nbs = splitter.sample() * len(vs)\n",
    "        indices = torch.cat((torch.zeros(1),nbs.cumsum(0).round()),0).long()\n",
    "        \n",
    "        for i,(start,stop) in enumerate(zip(indices[:-1],indices[1:])):\n",
    "            nodes[i] += vs[start:stop]\n",
    "    return nodes"
   ]
  },
  {
   "cell_type": "code",
   "execution_count": 54,
   "id": "c51988d2",
   "metadata": {},
   "outputs": [
    {
     "name": "stdout",
     "output_type": "stream",
     "text": [
      "Downloading https://www.cs.toronto.edu/~kriz/cifar-10-python.tar.gz to data/cifar-10-python.tar.gz\n"
     ]
    },
    {
     "data": {
      "application/vnd.jupyter.widget-view+json": {
       "model_id": "1693f302aab94295b07c4d26e2d0e862",
       "version_major": 2,
       "version_minor": 0
      },
      "text/plain": [
       "  0%|          | 0/170498071 [00:00<?, ?it/s]"
      ]
     },
     "metadata": {},
     "output_type": "display_data"
    },
    {
     "name": "stdout",
     "output_type": "stream",
     "text": [
      "Extracting data/cifar-10-python.tar.gz to data\n"
     ]
    }
   ],
   "source": [
    "train_dataset = CIFAR10('data', train=True, download=True, transform=transforms.ToTensor())"
   ]
  },
  {
   "cell_type": "code",
   "execution_count": 78,
   "id": "232d61d9",
   "metadata": {},
   "outputs": [],
   "source": [
    "partition = partition_by_class(train_dataset)"
   ]
  },
  {
   "cell_type": "code",
   "execution_count": 256,
   "id": "c1460beb",
   "metadata": {
    "scrolled": false
   },
   "outputs": [
    {
     "name": "stdout",
     "output_type": "stream",
     "text": [
      "total # of samples : 50000\n",
      " - class 0 : 5000\n",
      " - class 1 : 5000\n",
      " - class 2 : 5000\n",
      " - class 3 : 5000\n",
      " - class 4 : 5000\n",
      " - class 5 : 5000\n",
      " - class 6 : 5000\n",
      " - class 7 : 5000\n",
      " - class 8 : 5000\n",
      " - class 9 : 5000\n"
     ]
    }
   ],
   "source": [
    "print(f\"total # of samples : {len(train_dataset)}\")\n",
    "for k,v in partition.items():\n",
    "    print(f\" - class {k} : {len(v)}\")"
   ]
  },
  {
   "cell_type": "code",
   "execution_count": 268,
   "id": "7062927e",
   "metadata": {
    "scrolled": false
   },
   "outputs": [
    {
     "name": "stdout",
     "output_type": "stream",
     "text": [
      "node 0 :\n",
      " - class 0 : 608\n",
      " - class 2 : 541\n",
      " - class 4 : 3553\n",
      " - class 5 : 2641\n",
      " - class 7 : 2\n",
      " - class 8 : 980\n",
      " - class 9 : 249\n",
      "TOTAL      : 8574\n",
      "\n",
      "node 1 :\n",
      " - class 0 : 66\n",
      " - class 1 : 4150\n",
      " - class 3 : 2558\n",
      " - class 5 : 1541\n",
      " - class 6 : 1469\n",
      " - class 7 : 4064\n",
      " - class 8 : 295\n",
      " - class 9 : 132\n",
      "TOTAL      : 14275\n",
      "\n",
      "node 2 :\n",
      " - class 2 : 528\n",
      " - class 4 : 11\n",
      " - class 5 : 83\n",
      " - class 7 : 38\n",
      " - class 9 : 2274\n",
      "TOTAL      : 2934\n",
      "\n",
      "node 3 :\n",
      " - class 1 : 24\n",
      " - class 3 : 765\n",
      " - class 4 : 873\n",
      " - class 6 : 293\n",
      " - class 7 : 823\n",
      " - class 8 : 3419\n",
      " - class 9 : 85\n",
      "TOTAL      : 6282\n",
      "\n",
      "node 4 :\n",
      " - class 0 : 817\n",
      " - class 3 : 235\n",
      " - class 4 : 2\n",
      " - class 5 : 333\n",
      " - class 6 : 2344\n",
      " - class 7 : 68\n",
      " - class 8 : 262\n",
      " - class 9 : 130\n",
      "TOTAL      : 4191\n",
      "\n",
      "node 5 :\n",
      " - class 1 : 688\n",
      " - class 3 : 354\n",
      " - class 4 : 121\n",
      " - class 5 : 26\n",
      " - class 6 : 889\n",
      " - class 7 : 1\n",
      " - class 8 : 3\n",
      " - class 9 : 2077\n",
      "TOTAL      : 4159\n",
      "\n",
      "node 6 :\n",
      " - class 1 : 22\n",
      " - class 2 : 615\n",
      " - class 3 : 456\n",
      " - class 5 : 367\n",
      "TOTAL      : 1460\n",
      "\n",
      "node 7 :\n",
      " - class 2 : 852\n",
      " - class 3 : 73\n",
      " - class 4 : 440\n",
      " - class 5 : 9\n",
      " - class 7 : 1\n",
      " - class 8 : 41\n",
      " - class 9 : 50\n",
      "TOTAL      : 1466\n",
      "\n",
      "node 8 :\n",
      " - class 0 : 3502\n",
      " - class 1 : 109\n",
      " - class 3 : 559\n",
      " - class 7 : 2\n",
      "TOTAL      : 4172\n",
      "\n",
      "node 9 :\n",
      " - class 0 : 7\n",
      " - class 1 : 7\n",
      " - class 2 : 2464\n",
      " - class 6 : 5\n",
      " - class 7 : 1\n",
      " - class 9 : 3\n",
      "TOTAL      : 2487\n",
      "\n"
     ]
    }
   ],
   "source": [
    "nodes = split(partition,10,alpha=0.1)\n",
    "for i,n in enumerate(nodes):\n",
    "    print(f\"node {i} :\")\n",
    "    for k,vs in partition_by_class(n).items():\n",
    "        print(f\" - class {k} : {len(vs)}\")\n",
    "    print(f\"TOTAL      : {len(n)}\\n\")"
   ]
  },
  {
   "cell_type": "code",
   "execution_count": null,
   "id": "0fc7501d",
   "metadata": {},
   "outputs": [],
   "source": []
  },
  {
   "cell_type": "code",
   "execution_count": null,
   "id": "11c9755f",
   "metadata": {},
   "outputs": [],
   "source": []
  }
 ],
 "metadata": {
  "kernelspec": {
   "display_name": "Python 3 (ipykernel)",
   "language": "python",
   "name": "python3"
  },
  "language_info": {
   "codemirror_mode": {
    "name": "ipython",
    "version": 3
   },
   "file_extension": ".py",
   "mimetype": "text/x-python",
   "name": "python",
   "nbconvert_exporter": "python",
   "pygments_lexer": "ipython3",
   "version": "3.9.13"
  }
 },
 "nbformat": 4,
 "nbformat_minor": 5
}
