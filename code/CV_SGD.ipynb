{
 "cells": [
  {
   "cell_type": "code",
   "execution_count": 1,
   "id": "dc58366b",
   "metadata": {},
   "outputs": [],
   "source": [
    "import torch\n",
    "import torch.nn as nn\n",
    "import torch.optim as optim\n",
    "from torch.utils.data import DataLoader,Subset\n",
    "\n",
    "from torchvision.datasets import CIFAR10\n",
    "import torchvision.transforms as transforms\n",
    "from torchvision.models import vgg11\n",
    "\n",
    "from sklearn.model_selection import KFold\n",
    "\n",
    "import numpy as np\n",
    "import matplotlib.pyplot as plt\n",
    "\n",
    "from lib.models import model\n",
    "from lib.server import Server\n",
    "from lib.client import Client\n",
    "from lib.data_helper import *\n",
    "from lib.train_helper import *\n",
    "from lib.plots import plot_loss_epoch"
   ]
  },
  {
   "cell_type": "markdown",
   "id": "bf4998e1",
   "metadata": {},
   "source": [
    "# Device"
   ]
  },
  {
   "cell_type": "code",
   "execution_count": 2,
   "id": "0cae98c7",
   "metadata": {},
   "outputs": [
    {
     "data": {
      "text/plain": [
       "'cuda'"
      ]
     },
     "execution_count": 2,
     "metadata": {},
     "output_type": "execute_result"
    }
   ],
   "source": [
    "if torch.backends.mps.is_available():\n",
    "    device = 'mps'\n",
    "elif torch.cuda.is_available():\n",
    "    device = 'cuda'\n",
    "else:\n",
    "    device = 'cpu'\n",
    "device"
   ]
  },
  {
   "cell_type": "markdown",
   "id": "8c1fb8d1",
   "metadata": {},
   "source": [
    "# Manual Seeding"
   ]
  },
  {
   "cell_type": "code",
   "execution_count": 3,
   "id": "aba79d7a",
   "metadata": {},
   "outputs": [],
   "source": [
    "seed_generators()"
   ]
  },
  {
   "cell_type": "markdown",
   "id": "e12b6597",
   "metadata": {},
   "source": [
    "# Data"
   ]
  },
  {
   "cell_type": "code",
   "execution_count": 4,
   "id": "16976878",
   "metadata": {},
   "outputs": [
    {
     "name": "stdout",
     "output_type": "stream",
     "text": [
      "Files already downloaded and verified\n"
     ]
    },
    {
     "data": {
      "text/plain": [
       "Dataset CIFAR10\n",
       "    Number of datapoints: 50000\n",
       "    Root location: data\n",
       "    Split: Train\n",
       "    StandardTransform\n",
       "Transform: ToTensor()"
      ]
     },
     "execution_count": 4,
     "metadata": {},
     "output_type": "execute_result"
    }
   ],
   "source": [
    "train_dataset = CIFAR10('data', train=True, download=True, transform=transforms.ToTensor())\n",
    "train_dataset"
   ]
  },
  {
   "cell_type": "code",
   "execution_count": 5,
   "id": "d085cb13",
   "metadata": {},
   "outputs": [
    {
     "name": "stdout",
     "output_type": "stream",
     "text": [
      "Files already downloaded and verified\n"
     ]
    },
    {
     "data": {
      "text/plain": [
       "Dataset CIFAR10\n",
       "    Number of datapoints: 10000\n",
       "    Root location: data\n",
       "    Split: Test\n",
       "    StandardTransform\n",
       "Transform: ToTensor()"
      ]
     },
     "execution_count": 5,
     "metadata": {},
     "output_type": "execute_result"
    }
   ],
   "source": [
    "test_dataset = CIFAR10('data', train=False, download=True, transform=transforms.ToTensor())\n",
    "test_dataset"
   ]
  },
  {
   "cell_type": "markdown",
   "id": "dd41b89d",
   "metadata": {},
   "source": [
    "# Server & Clients"
   ]
  },
  {
   "cell_type": "code",
   "execution_count": 6,
   "id": "bae9bf74",
   "metadata": {},
   "outputs": [],
   "source": [
    "num_clients = 8\n",
    "num_classes = 10"
   ]
  },
  {
   "cell_type": "markdown",
   "id": "4c01b749",
   "metadata": {},
   "source": [
    "## Data repartition among clients"
   ]
  },
  {
   "cell_type": "code",
   "execution_count": 7,
   "id": "453e6933",
   "metadata": {},
   "outputs": [
    {
     "data": {
      "text/plain": [
       "[tensor([1.7277e-03, 1.4681e-03, 1.7119e-01, 6.7152e-08, 5.6816e-13, 3.8499e-02,\n",
       "         1.0243e-05, 7.8711e-01]),\n",
       " tensor([1.0118e-01, 3.6152e-06, 1.2661e-02, 7.9172e-01, 5.1877e-21, 6.2118e-12,\n",
       "         9.4433e-02, 3.0271e-15]),\n",
       " tensor([2.6149e-01, 2.5464e-01, 3.9212e-11, 8.3872e-11, 1.3594e-10, 3.5875e-01,\n",
       "         1.1811e-01, 7.0036e-03]),\n",
       " tensor([9.6308e-04, 1.4171e-06, 6.7539e-05, 4.1170e-02, 8.3330e-04, 3.0664e-03,\n",
       "         2.2048e-01, 7.3342e-01]),\n",
       " tensor([5.0231e-01, 2.2462e-11, 4.8773e-01, 1.6541e-03, 2.9940e-04, 9.7107e-06,\n",
       "         6.0056e-03, 1.9903e-03]),\n",
       " tensor([6.4948e-06, 1.6067e-10, 9.1099e-09, 9.7064e-05, 1.0678e-03, 1.6058e-08,\n",
       "         3.3956e-20, 9.9883e-01]),\n",
       " tensor([4.1385e-03, 8.2548e-01, 3.1079e-04, 2.0520e-11, 1.6359e-01, 5.3383e-07,\n",
       "         3.7362e-05, 6.4420e-03]),\n",
       " tensor([8.4674e-01, 1.1771e-08, 8.1328e-03, 4.3720e-11, 7.8426e-02, 2.2480e-03,\n",
       "         6.4372e-02, 7.9591e-05]),\n",
       " tensor([1.3971e-03, 7.3353e-18, 3.2855e-02, 1.9014e-01, 2.6827e-01, 5.9457e-03,\n",
       "         5.0138e-01, 7.8459e-06]),\n",
       " tensor([2.2305e-10, 6.6345e-06, 4.0467e-15, 9.9980e-01, 1.2487e-04, 3.9506e-11,\n",
       "         7.0618e-11, 6.6685e-05])]"
      ]
     },
     "execution_count": 7,
     "metadata": {},
     "output_type": "execute_result"
    }
   ],
   "source": [
    "proportions = generate_proportions(num_clients,num_classes)\n",
    "proportions"
   ]
  },
  {
   "cell_type": "markdown",
   "id": "6690f6b6",
   "metadata": {},
   "source": [
    "# Cross Validation"
   ]
  },
  {
   "cell_type": "code",
   "execution_count": 8,
   "id": "7045e57d",
   "metadata": {},
   "outputs": [],
   "source": [
    "def run_FedAvg(server,clients,device,train_dataset,valid_dataset,rounds,epochs,batch_size,optimizer,lr,**kwargs):\n",
    "    \n",
    "    train_loader = DeviceDataLoader(DataLoader(train_dataset, batch_size, shuffle=True), device)\n",
    "    valid_loader = DeviceDataLoader(DataLoader(valid_dataset, batch_size, shuffle=True), device)\n",
    "    history = []\n",
    "\n",
    "    server.reset_weights()\n",
    "    for i in range(rounds):\n",
    "        print(f'>>> Round {i+1} ...')\n",
    "        server_params = server.net.state_dict()\n",
    "        clients_params = []\n",
    "        for client in clients:\n",
    "            client.train(device,server_params,epochs,batch_size, optimizer,lr,**kwargs)\n",
    "        server.merge(clients)\n",
    "        \n",
    "        train_loss, train_acc = evaluate(server.net,train_loader)\n",
    "        valid_loss, valid_acc = evaluate(server.net,valid_loader)\n",
    "        \n",
    "        print(f'''\n",
    "Server :\n",
    "    - training loss = {train_loss:.4f}\n",
    "    - training accuracy = {train_acc:.4f}\n",
    "    - validation loss = {valid_loss:.4f}\n",
    "    - validation accuracy = {valid_acc:.4f}\n",
    "        ''')\n",
    "        \n",
    "        history.append([train_loss, valid_loss, train_acc, valid_acc])\n",
    "    return history"
   ]
  },
  {
   "cell_type": "code",
   "execution_count": 9,
   "id": "0e6cdfa6",
   "metadata": {},
   "outputs": [],
   "source": [
    "def run_CV(n_splits,device,rounds,epochs,batch_size,model,optimizer,lr,**kwargs):\n",
    "    folds = KFold(n_splits=n_splits,shuffle=True,random_state=42).split(np.arange(len(train_dataset)))\n",
    "\n",
    "    results = []\n",
    "    for fold, (train_idx,valid_idx) in enumerate(folds):\n",
    "        print(\"=\"*25)\n",
    "        print(f\"Fold #{fold}\")\n",
    "        print(\"=\"*25)\n",
    "\n",
    "        # create train and validation subsets\n",
    "        train_subset = Subset(train_dataset, train_idx)\n",
    "        valid_subset = Subset(train_dataset, valid_idx)\n",
    "\n",
    "        # split data between users\n",
    "        partition = partition_by_class(train_subset)\n",
    "        clients = [Client(i,d,model().to(device)) for i,d in enumerate(split(partition,proportions),start=1)]\n",
    "        server = Server(model().to(device))\n",
    "        \n",
    "        for c in clients:\n",
    "            print(f\"client {c.client_id} : {len(c.dataset)} samples\")\n",
    "        print()\n",
    "        \n",
    "        history = run_FedAvg(server,clients,device,train_subset,valid_subset,rounds,epochs,batch_size,optimizer,lr,**kwargs)\n",
    "        \n",
    "        plot_loss_epoch(history)\n",
    "        \n",
    "        results.append(history[-1][-1])\n",
    "        \n",
    "        \n",
    "    return torch.tensor(results).mean()"
   ]
  },
  {
   "cell_type": "code",
   "execution_count": null,
   "id": "8dca0c5d",
   "metadata": {
    "scrolled": false
   },
   "outputs": [
    {
     "name": "stdout",
     "output_type": "stream",
     "text": [
      "=========================\n",
      "Fold #0\n",
      "=========================\n",
      "client 1 : 6914 samples\n",
      "client 2 : 4322 samples\n",
      "client 3 : 2887 samples\n",
      "client 4 : 8071 samples\n",
      "client 5 : 2047 samples\n",
      "client 6 : 1624 samples\n",
      "client 7 : 4006 samples\n",
      "client 8 : 10129 samples\n",
      "\n",
      ">>> Round 1 ...\n",
      "client 1 : Loss = 0.9771, Accuracy = 0.6602\n",
      "client 2 : Loss = 0.1448, Accuracy = 0.9441\n",
      "client 3 : Loss = 0.2537, Accuracy = 0.9030\n",
      "client 4 : Loss = 0.4797, Accuracy = 0.8256\n",
      "client 5 : Loss = 0.1411, Accuracy = 0.9492\n",
      "client 6 : Loss = 0.1178, Accuracy = 0.9557\n",
      "client 7 : Loss = 0.4629, Accuracy = 0.8283\n",
      "client 8 : Loss = 0.5101, Accuracy = 0.7762\n",
      "\n",
      "Server :\n",
      "    - training loss = 2.3044\n",
      "    - training accuracy = 0.2431\n",
      "    - validation loss = 2.3544\n",
      "    - validation accuracy = 0.2372\n",
      "        \n",
      ">>> Round 2 ...\n",
      "client 1 : Loss = 0.9586, Accuracy = 0.6911\n",
      "client 2 : Loss = 0.1129, Accuracy = 0.9569\n",
      "client 3 : Loss = 0.1390, Accuracy = 0.9562\n",
      "client 4 : Loss = 0.4244, Accuracy = 0.8588\n",
      "client 5 : Loss = 0.0875, Accuracy = 0.9751\n",
      "client 6 : Loss = 0.0859, Accuracy = 0.9707\n",
      "client 7 : Loss = 0.3030, Accuracy = 0.8941\n",
      "client 8 : Loss = 0.4455, Accuracy = 0.8129\n",
      "\n",
      "Server :\n",
      "    - training loss = 1.7608\n",
      "    - training accuracy = 0.3566\n",
      "    - validation loss = 1.8043\n",
      "    - validation accuracy = 0.3405\n",
      "        \n",
      ">>> Round 3 ...\n",
      "client 1 : Loss = 0.4844, Accuracy = 0.8148\n",
      "client 2 : Loss = 0.0740, Accuracy = 0.9741\n",
      "client 3 : Loss = 0.1319, Accuracy = 0.9519\n",
      "client 4 : Loss = 0.1827, Accuracy = 0.9343\n",
      "client 5 : Loss = 0.0662, Accuracy = 0.9780\n",
      "client 6 : Loss = 0.0593, Accuracy = 0.9779\n",
      "client 7 : Loss = 0.2323, Accuracy = 0.9245\n",
      "client 8 : Loss = 0.3008, Accuracy = 0.8776\n",
      "\n",
      "Server :\n",
      "    - training loss = 1.6085\n",
      "    - training accuracy = 0.4199\n",
      "    - validation loss = 1.6810\n",
      "    - validation accuracy = 0.4054\n",
      "        \n",
      ">>> Round 4 ...\n",
      "client 1 : Loss = 0.4848, Accuracy = 0.8139\n",
      "client 2 : Loss = 0.0655, Accuracy = 0.9772\n",
      "client 3 : Loss = 0.0783, Accuracy = 0.9763\n",
      "client 4 : Loss = 0.1798, Accuracy = 0.9321\n",
      "client 5 : Loss = 0.0456, Accuracy = 0.9878\n",
      "client 6 : Loss = 0.0437, Accuracy = 0.9874\n",
      "client 7 : Loss = 0.1748, Accuracy = 0.9418\n",
      "client 8 : Loss = 0.2348, Accuracy = 0.9060\n",
      "\n",
      "Server :\n",
      "    - training loss = 1.4221\n",
      "    - training accuracy = 0.4864\n",
      "    - validation loss = 1.5493\n",
      "    - validation accuracy = 0.4561\n",
      "        \n",
      ">>> Round 5 ...\n",
      "client 1 : Loss = 0.8671, Accuracy = 0.7172\n",
      "client 2 : Loss = 0.0513, Accuracy = 0.9853\n",
      "client 3 : Loss = 0.0577, Accuracy = 0.9878\n",
      "client 4 : Loss = 0.1095, Accuracy = 0.9611\n",
      "client 5 : Loss = 0.0328, Accuracy = 0.9936\n",
      "client 6 : Loss = 0.0383, Accuracy = 0.9895\n",
      "client 7 : Loss = 0.1129, Accuracy = 0.9688\n",
      "client 8 : Loss = 0.1700, Accuracy = 0.9352\n"
     ]
    }
   ],
   "source": [
    "%%time\n",
    "n_splits = 5\n",
    "rounds = 40\n",
    "batch_size = 128\n",
    "epochs = 5\n",
    "lrs = [1e-1,1e-2,1e-3,1e-4]\n",
    "optimizer = optim.SGD\n",
    "\n",
    "results = []\n",
    "for lr in lrs:\n",
    "    res = run_CV(n_splits,device,rounds,epochs,batch_size,model,optimizer,lr)\n",
    "    results.append((lr,res))\n",
    "    \n",
    "print(\"=\"*25)\n",
    "print(f\"RESULTS\")\n",
    "print(\"=\"*25)\n",
    "for lr,res in results:\n",
    "    print(f\"lr = {lr:.4f} : Accuracy = {res}\")\n",
    "print()\n"
   ]
  },
  {
   "cell_type": "code",
   "execution_count": null,
   "id": "26e08a74",
   "metadata": {},
   "outputs": [],
   "source": [
    "\n",
    "        "
   ]
  },
  {
   "cell_type": "code",
   "execution_count": null,
   "id": "e41bb13c",
   "metadata": {},
   "outputs": [],
   "source": []
  }
 ],
 "metadata": {
  "kernelspec": {
   "display_name": "Python 3 (ipykernel)",
   "language": "python",
   "name": "python3"
  },
  "language_info": {
   "codemirror_mode": {
    "name": "ipython",
    "version": 3
   },
   "file_extension": ".py",
   "mimetype": "text/x-python",
   "name": "python",
   "nbconvert_exporter": "python",
   "pygments_lexer": "ipython3",
   "version": "3.9.13"
  }
 },
 "nbformat": 4,
 "nbformat_minor": 5
}
